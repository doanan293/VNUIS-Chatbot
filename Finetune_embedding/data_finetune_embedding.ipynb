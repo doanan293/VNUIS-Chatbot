{
 "cells": [
  {
   "cell_type": "code",
   "execution_count": 1,
   "metadata": {},
   "outputs": [
    {
     "name": "stdout",
     "output_type": "stream",
     "text": [
      "/home/admin-hieunn/important/VNUIS-Chatbot\n"
     ]
    },
    {
     "name": "stderr",
     "output_type": "stream",
     "text": [
      "/home/admin-hieunn/important/VNUIS-Chatbot/.venv/lib/python3.10/site-packages/IPython/core/magics/osm.py:417: UserWarning: This is now an optional IPython functionality, setting dhist requires you to install the `pickleshare` library.\n",
      "  self.shell.db['dhist'] = compress_dhist(dhist)[-100:]\n"
     ]
    }
   ],
   "source": [
    "cd .."
   ]
  },
  {
   "cell_type": "code",
   "execution_count": 2,
   "metadata": {},
   "outputs": [],
   "source": [
    "import pandas as pd\n",
    "import numpy as np"
   ]
  },
  {
   "cell_type": "code",
   "execution_count": 3,
   "metadata": {},
   "outputs": [],
   "source": [
    "df = pd.read_csv(\"./Data/DB/vnuis.csv\")"
   ]
  },
  {
   "cell_type": "code",
   "execution_count": 4,
   "metadata": {},
   "outputs": [
    {
     "data": {
      "text/html": [
       "<div>\n",
       "<style scoped>\n",
       "    .dataframe tbody tr th:only-of-type {\n",
       "        vertical-align: middle;\n",
       "    }\n",
       "\n",
       "    .dataframe tbody tr th {\n",
       "        vertical-align: top;\n",
       "    }\n",
       "\n",
       "    .dataframe thead th {\n",
       "        text-align: right;\n",
       "    }\n",
       "</style>\n",
       "<table border=\"1\" class=\"dataframe\">\n",
       "  <thead>\n",
       "    <tr style=\"text-align: right;\">\n",
       "      <th></th>\n",
       "      <th>Relevant docs</th>\n",
       "      <th>Domain level 1</th>\n",
       "      <th>Domain level 2</th>\n",
       "      <th>Domain level 3</th>\n",
       "      <th>Question 1</th>\n",
       "      <th>Question 2</th>\n",
       "      <th>Question 3</th>\n",
       "      <th>Question 4</th>\n",
       "      <th>Question 5</th>\n",
       "      <th>Question 6</th>\n",
       "      <th>Question 7</th>\n",
       "      <th>Question 8</th>\n",
       "      <th>Question 9</th>\n",
       "      <th>Question 10</th>\n",
       "    </tr>\n",
       "  </thead>\n",
       "  <tbody>\n",
       "    <tr>\n",
       "      <th>0</th>\n",
       "      <td>Với 20 năm xây dựng và phát triển, VNU-IS là m...</td>\n",
       "      <td>Giới thiệu chung</td>\n",
       "      <td>Đại học do ĐHQGHN cấp bẳng</td>\n",
       "      <td>Thông điệp của Hiệu Trưởng</td>\n",
       "      <td>VNU-IS có phải là một trong những đơn vị đầu t...</td>\n",
       "      <td>Nhà trường là đơn vị tiên phong như thế nào?</td>\n",
       "      <td>Nhà trường đã có hợp tác đào tạo và nghiên cứu...</td>\n",
       "      <td>NaN</td>\n",
       "      <td>NaN</td>\n",
       "      <td>NaN</td>\n",
       "      <td>NaN</td>\n",
       "      <td>NaN</td>\n",
       "      <td>NaN</td>\n",
       "      <td>NaN</td>\n",
       "    </tr>\n",
       "    <tr>\n",
       "      <th>1</th>\n",
       "      <td>Lời chúc của Hiệu Trưởng: Chúc cho sự đoàn kết...</td>\n",
       "      <td>Giới thiệu chung</td>\n",
       "      <td>Đại học do ĐHQGHN cấp bẳng</td>\n",
       "      <td>Thông điệp của Hiệu Trưởng</td>\n",
       "      <td>Lời chúc của Hiệu Trưởng là gì?</td>\n",
       "      <td>Hiệu Trưởng đã có phát biểu như thế nào?</td>\n",
       "      <td>Lời chúc hướng đến mục tiêu gì của Hiệu Trưởng...</td>\n",
       "      <td>NaN</td>\n",
       "      <td>NaN</td>\n",
       "      <td>NaN</td>\n",
       "      <td>NaN</td>\n",
       "      <td>NaN</td>\n",
       "      <td>NaN</td>\n",
       "      <td>NaN</td>\n",
       "    </tr>\n",
       "    <tr>\n",
       "      <th>2</th>\n",
       "      <td>Thông tin cơ bản của Trường Quốc Tế\\nTên đầy đ...</td>\n",
       "      <td>Giới thiệu chung</td>\n",
       "      <td>Đại học do ĐHQGHN cấp bẳng</td>\n",
       "      <td>Sơ lược về Trường Quốc Tế</td>\n",
       "      <td>VNU-IS có bao nhiêu cơ sở và các cơ sở này nằm...</td>\n",
       "      <td>Tên đầy đủ của Trường Quốc Tế?</td>\n",
       "      <td>Các thông tin cơ bản của Trường Quốc Tế - VNU?</td>\n",
       "      <td>NaN</td>\n",
       "      <td>NaN</td>\n",
       "      <td>NaN</td>\n",
       "      <td>NaN</td>\n",
       "      <td>NaN</td>\n",
       "      <td>NaN</td>\n",
       "      <td>NaN</td>\n",
       "    </tr>\n",
       "    <tr>\n",
       "      <th>3</th>\n",
       "      <td>Trường Quốc tế (tên giao dịch bằng tiếng Anh V...</td>\n",
       "      <td>Giới thiệu chung</td>\n",
       "      <td>Đại học do ĐHQGHN cấp bẳng</td>\n",
       "      <td>Sơ lược về Trường Quốc Tế</td>\n",
       "      <td>Ý nghĩa tên Trường Quốc Tế?</td>\n",
       "      <td>Sứ mệnh của trường Quốc Tế?</td>\n",
       "      <td>Giới thiệu về Trường Quốc Tế?</td>\n",
       "      <td>NaN</td>\n",
       "      <td>NaN</td>\n",
       "      <td>NaN</td>\n",
       "      <td>NaN</td>\n",
       "      <td>NaN</td>\n",
       "      <td>NaN</td>\n",
       "      <td>NaN</td>\n",
       "    </tr>\n",
       "    <tr>\n",
       "      <th>4</th>\n",
       "      <td>Trường Quốc tế - 20 năm hình thành và phát tri...</td>\n",
       "      <td>Giới thiệu chung</td>\n",
       "      <td>Đại học do ĐHQGHN cấp bẳng</td>\n",
       "      <td>Sơ lược về Trường Quốc Tế</td>\n",
       "      <td>20 năm hình thành và phát triển của Trường Quố...</td>\n",
       "      <td>Quá trình hình thành và phát triển của Trường ...</td>\n",
       "      <td>Số lượng chương trình đào tạo, sinh viên, và c...</td>\n",
       "      <td>NaN</td>\n",
       "      <td>NaN</td>\n",
       "      <td>NaN</td>\n",
       "      <td>NaN</td>\n",
       "      <td>NaN</td>\n",
       "      <td>NaN</td>\n",
       "      <td>NaN</td>\n",
       "    </tr>\n",
       "  </tbody>\n",
       "</table>\n",
       "</div>"
      ],
      "text/plain": [
       "                                       Relevant docs    Domain level 1  \\\n",
       "0  Với 20 năm xây dựng và phát triển, VNU-IS là m...  Giới thiệu chung   \n",
       "1  Lời chúc của Hiệu Trưởng: Chúc cho sự đoàn kết...  Giới thiệu chung   \n",
       "2  Thông tin cơ bản của Trường Quốc Tế\\nTên đầy đ...  Giới thiệu chung   \n",
       "3  Trường Quốc tế (tên giao dịch bằng tiếng Anh V...  Giới thiệu chung   \n",
       "4  Trường Quốc tế - 20 năm hình thành và phát tri...  Giới thiệu chung   \n",
       "\n",
       "               Domain level 2              Domain level 3  \\\n",
       "0  Đại học do ĐHQGHN cấp bẳng  Thông điệp của Hiệu Trưởng   \n",
       "1  Đại học do ĐHQGHN cấp bẳng  Thông điệp của Hiệu Trưởng   \n",
       "2  Đại học do ĐHQGHN cấp bẳng   Sơ lược về Trường Quốc Tế   \n",
       "3  Đại học do ĐHQGHN cấp bẳng   Sơ lược về Trường Quốc Tế   \n",
       "4  Đại học do ĐHQGHN cấp bẳng   Sơ lược về Trường Quốc Tế   \n",
       "\n",
       "                                          Question 1  \\\n",
       "0  VNU-IS có phải là một trong những đơn vị đầu t...   \n",
       "1                    Lời chúc của Hiệu Trưởng là gì?   \n",
       "2  VNU-IS có bao nhiêu cơ sở và các cơ sở này nằm...   \n",
       "3                        Ý nghĩa tên Trường Quốc Tế?   \n",
       "4  20 năm hình thành và phát triển của Trường Quố...   \n",
       "\n",
       "                                          Question 2  \\\n",
       "0       Nhà trường là đơn vị tiên phong như thế nào?   \n",
       "1           Hiệu Trưởng đã có phát biểu như thế nào?   \n",
       "2                     Tên đầy đủ của Trường Quốc Tế?   \n",
       "3                        Sứ mệnh của trường Quốc Tế?   \n",
       "4  Quá trình hình thành và phát triển của Trường ...   \n",
       "\n",
       "                                          Question 3 Question 4 Question 5  \\\n",
       "0  Nhà trường đã có hợp tác đào tạo và nghiên cứu...        NaN        NaN   \n",
       "1  Lời chúc hướng đến mục tiêu gì của Hiệu Trưởng...        NaN        NaN   \n",
       "2     Các thông tin cơ bản của Trường Quốc Tế - VNU?        NaN        NaN   \n",
       "3                      Giới thiệu về Trường Quốc Tế?        NaN        NaN   \n",
       "4  Số lượng chương trình đào tạo, sinh viên, và c...        NaN        NaN   \n",
       "\n",
       "  Question 6 Question 7 Question 8 Question 9 Question 10  \n",
       "0        NaN        NaN        NaN        NaN         NaN  \n",
       "1        NaN        NaN        NaN        NaN         NaN  \n",
       "2        NaN        NaN        NaN        NaN         NaN  \n",
       "3        NaN        NaN        NaN        NaN         NaN  \n",
       "4        NaN        NaN        NaN        NaN         NaN  "
      ]
     },
     "execution_count": 4,
     "metadata": {},
     "output_type": "execute_result"
    }
   ],
   "source": [
    "df.head()"
   ]
  },
  {
   "cell_type": "code",
   "execution_count": 5,
   "metadata": {},
   "outputs": [],
   "source": [
    "df[\"relevantdocs_id\"] = pd.factorize(df[\"Relevant docs\"])[0]"
   ]
  },
  {
   "cell_type": "code",
   "execution_count": 6,
   "metadata": {},
   "outputs": [],
   "source": [
    "df[\"relevantdocs_id\"] = \"relevantdocs_id\" + df[\"relevantdocs_id\"].astype(str)"
   ]
  },
  {
   "cell_type": "code",
   "execution_count": 7,
   "metadata": {},
   "outputs": [],
   "source": [
    "corpus = df[[\"Relevant docs\", \"relevantdocs_id\"]]"
   ]
  },
  {
   "cell_type": "code",
   "execution_count": 8,
   "metadata": {},
   "outputs": [],
   "source": [
    "corpus.to_csv(\"./Data/finetune_embedding/corpus.csv\", index = False)"
   ]
  },
  {
   "cell_type": "code",
   "execution_count": 9,
   "metadata": {},
   "outputs": [],
   "source": [
    "df_final = pd.melt(\n",
    "    df,\n",
    "    id_vars=[\"relevantdocs_id\"],\n",
    "    value_vars=[\"Question 1\", \"Question 2\", \"Question 3\", \"Question 4\", \"Question 5\", \"Question 6\", \"Question 7\", \"Question 8\", \"Question 9\", \"Question 10\"],\n",
    "    var_name=\"Original_Question_Column\",\n",
    "    value_name=\"Question_Text\",\n",
    ")"
   ]
  },
  {
   "cell_type": "code",
   "execution_count": 10,
   "metadata": {},
   "outputs": [],
   "source": [
    "df_final = df_final.drop(columns=[\"Original_Question_Column\"])\n",
    "df_final = df_final.rename(columns={\"Question_Text\": \"Question\"})\n"
   ]
  },
  {
   "cell_type": "code",
   "execution_count": 11,
   "metadata": {},
   "outputs": [],
   "source": [
    "df_final.dropna(subset=[\"Question\"], inplace=True)\n",
    "# df_final.drop_duplicates(subset=\"Question\", inplace=True, ignore_index=True)"
   ]
  },
  {
   "cell_type": "code",
   "execution_count": 12,
   "metadata": {},
   "outputs": [
    {
     "data": {
      "text/html": [
       "<div>\n",
       "<style scoped>\n",
       "    .dataframe tbody tr th:only-of-type {\n",
       "        vertical-align: middle;\n",
       "    }\n",
       "\n",
       "    .dataframe tbody tr th {\n",
       "        vertical-align: top;\n",
       "    }\n",
       "\n",
       "    .dataframe thead th {\n",
       "        text-align: right;\n",
       "    }\n",
       "</style>\n",
       "<table border=\"1\" class=\"dataframe\">\n",
       "  <thead>\n",
       "    <tr style=\"text-align: right;\">\n",
       "      <th></th>\n",
       "      <th>relevantdocs_id</th>\n",
       "      <th>Question</th>\n",
       "    </tr>\n",
       "  </thead>\n",
       "  <tbody>\n",
       "    <tr>\n",
       "      <th>0</th>\n",
       "      <td>relevantdocs_id0</td>\n",
       "      <td>VNU-IS có phải là một trong những đơn vị đầu t...</td>\n",
       "    </tr>\n",
       "    <tr>\n",
       "      <th>1</th>\n",
       "      <td>relevantdocs_id1</td>\n",
       "      <td>Lời chúc của Hiệu Trưởng là gì?</td>\n",
       "    </tr>\n",
       "    <tr>\n",
       "      <th>2</th>\n",
       "      <td>relevantdocs_id2</td>\n",
       "      <td>VNU-IS có bao nhiêu cơ sở và các cơ sở này nằm...</td>\n",
       "    </tr>\n",
       "    <tr>\n",
       "      <th>3</th>\n",
       "      <td>relevantdocs_id3</td>\n",
       "      <td>Ý nghĩa tên Trường Quốc Tế?</td>\n",
       "    </tr>\n",
       "    <tr>\n",
       "      <th>4</th>\n",
       "      <td>relevantdocs_id4</td>\n",
       "      <td>20 năm hình thành và phát triển của Trường Quố...</td>\n",
       "    </tr>\n",
       "    <tr>\n",
       "      <th>...</th>\n",
       "      <td>...</td>\n",
       "      <td>...</td>\n",
       "    </tr>\n",
       "    <tr>\n",
       "      <th>5076</th>\n",
       "      <td>relevantdocs_id307</td>\n",
       "      <td>Theo thang điểm 10, bao nhiêu điểm thì đạt D</td>\n",
       "    </tr>\n",
       "    <tr>\n",
       "      <th>5166</th>\n",
       "      <td>relevantdocs_id396</td>\n",
       "      <td>Ca 4 bắt đầu và kết thúc vào khoảng thời gian ...</td>\n",
       "    </tr>\n",
       "    <tr>\n",
       "      <th>5192</th>\n",
       "      <td>relevantdocs_id422</td>\n",
       "      <td>Tên các môn học của TS. Trần Đức Quỳnh là gì?</td>\n",
       "    </tr>\n",
       "    <tr>\n",
       "      <th>5595</th>\n",
       "      <td>relevantdocs_id230</td>\n",
       "      <td>Câu lạc bộ dành cho sinh viên đam mê bóng đá</td>\n",
       "    </tr>\n",
       "    <tr>\n",
       "      <th>5788</th>\n",
       "      <td>relevantdocs_id422</td>\n",
       "      <td>Các môn học của TS. Trần Đức Quỳnh bao gồm?</td>\n",
       "    </tr>\n",
       "  </tbody>\n",
       "</table>\n",
       "<p>2302 rows × 2 columns</p>\n",
       "</div>"
      ],
      "text/plain": [
       "         relevantdocs_id                                           Question\n",
       "0       relevantdocs_id0  VNU-IS có phải là một trong những đơn vị đầu t...\n",
       "1       relevantdocs_id1                    Lời chúc của Hiệu Trưởng là gì?\n",
       "2       relevantdocs_id2  VNU-IS có bao nhiêu cơ sở và các cơ sở này nằm...\n",
       "3       relevantdocs_id3                        Ý nghĩa tên Trường Quốc Tế?\n",
       "4       relevantdocs_id4  20 năm hình thành và phát triển của Trường Quố...\n",
       "...                  ...                                                ...\n",
       "5076  relevantdocs_id307       Theo thang điểm 10, bao nhiêu điểm thì đạt D\n",
       "5166  relevantdocs_id396  Ca 4 bắt đầu và kết thúc vào khoảng thời gian ...\n",
       "5192  relevantdocs_id422      Tên các môn học của TS. Trần Đức Quỳnh là gì?\n",
       "5595  relevantdocs_id230       Câu lạc bộ dành cho sinh viên đam mê bóng đá\n",
       "5788  relevantdocs_id422        Các môn học của TS. Trần Đức Quỳnh bao gồm?\n",
       "\n",
       "[2302 rows x 2 columns]"
      ]
     },
     "execution_count": 12,
     "metadata": {},
     "output_type": "execute_result"
    }
   ],
   "source": [
    "df_final"
   ]
  },
  {
   "cell_type": "code",
   "execution_count": 12,
   "metadata": {},
   "outputs": [],
   "source": [
    "df_final[\"queries_id\"] = df_final.index"
   ]
  },
  {
   "cell_type": "code",
   "execution_count": 13,
   "metadata": {},
   "outputs": [],
   "source": [
    "df_final[\"queries_id\"] = \"queries_id\" + df_final[\"queries_id\"].astype(str)"
   ]
  },
  {
   "cell_type": "code",
   "execution_count": 14,
   "metadata": {},
   "outputs": [],
   "source": [
    "queries = df_final[[\"queries_id\", \"Question\"]]"
   ]
  },
  {
   "cell_type": "code",
   "execution_count": 15,
   "metadata": {},
   "outputs": [],
   "source": [
    "queries.to_csv(\"./Data/finetune_embedding/queries.csv\", index=False)"
   ]
  },
  {
   "cell_type": "code",
   "execution_count": 16,
   "metadata": {},
   "outputs": [],
   "source": [
    "eval = df_final[[\"queries_id\", \"relevantdocs_id\"]]"
   ]
  },
  {
   "cell_type": "code",
   "execution_count": 17,
   "metadata": {},
   "outputs": [],
   "source": [
    "eval.to_csv(\"./Data/finetune_embedding/eval.csv\", index=False)"
   ]
  },
  {
   "cell_type": "code",
   "execution_count": 18,
   "metadata": {},
   "outputs": [
    {
     "data": {
      "text/html": [
       "<div>\n",
       "<style scoped>\n",
       "    .dataframe tbody tr th:only-of-type {\n",
       "        vertical-align: middle;\n",
       "    }\n",
       "\n",
       "    .dataframe tbody tr th {\n",
       "        vertical-align: top;\n",
       "    }\n",
       "\n",
       "    .dataframe thead th {\n",
       "        text-align: right;\n",
       "    }\n",
       "</style>\n",
       "<table border=\"1\" class=\"dataframe\">\n",
       "  <thead>\n",
       "    <tr style=\"text-align: right;\">\n",
       "      <th></th>\n",
       "      <th>queries_id</th>\n",
       "      <th>relevantdocs_id</th>\n",
       "    </tr>\n",
       "  </thead>\n",
       "  <tbody>\n",
       "    <tr>\n",
       "      <th>0</th>\n",
       "      <td>queries_id0</td>\n",
       "      <td>relevantdocs_id0</td>\n",
       "    </tr>\n",
       "    <tr>\n",
       "      <th>1</th>\n",
       "      <td>queries_id1</td>\n",
       "      <td>relevantdocs_id1</td>\n",
       "    </tr>\n",
       "    <tr>\n",
       "      <th>2</th>\n",
       "      <td>queries_id2</td>\n",
       "      <td>relevantdocs_id2</td>\n",
       "    </tr>\n",
       "    <tr>\n",
       "      <th>3</th>\n",
       "      <td>queries_id3</td>\n",
       "      <td>relevantdocs_id3</td>\n",
       "    </tr>\n",
       "    <tr>\n",
       "      <th>4</th>\n",
       "      <td>queries_id4</td>\n",
       "      <td>relevantdocs_id4</td>\n",
       "    </tr>\n",
       "    <tr>\n",
       "      <th>...</th>\n",
       "      <td>...</td>\n",
       "      <td>...</td>\n",
       "    </tr>\n",
       "    <tr>\n",
       "      <th>5076</th>\n",
       "      <td>queries_id5076</td>\n",
       "      <td>relevantdocs_id307</td>\n",
       "    </tr>\n",
       "    <tr>\n",
       "      <th>5166</th>\n",
       "      <td>queries_id5166</td>\n",
       "      <td>relevantdocs_id396</td>\n",
       "    </tr>\n",
       "    <tr>\n",
       "      <th>5192</th>\n",
       "      <td>queries_id5192</td>\n",
       "      <td>relevantdocs_id422</td>\n",
       "    </tr>\n",
       "    <tr>\n",
       "      <th>5595</th>\n",
       "      <td>queries_id5595</td>\n",
       "      <td>relevantdocs_id230</td>\n",
       "    </tr>\n",
       "    <tr>\n",
       "      <th>5788</th>\n",
       "      <td>queries_id5788</td>\n",
       "      <td>relevantdocs_id422</td>\n",
       "    </tr>\n",
       "  </tbody>\n",
       "</table>\n",
       "<p>2302 rows × 2 columns</p>\n",
       "</div>"
      ],
      "text/plain": [
       "          queries_id     relevantdocs_id\n",
       "0        queries_id0    relevantdocs_id0\n",
       "1        queries_id1    relevantdocs_id1\n",
       "2        queries_id2    relevantdocs_id2\n",
       "3        queries_id3    relevantdocs_id3\n",
       "4        queries_id4    relevantdocs_id4\n",
       "...              ...                 ...\n",
       "5076  queries_id5076  relevantdocs_id307\n",
       "5166  queries_id5166  relevantdocs_id396\n",
       "5192  queries_id5192  relevantdocs_id422\n",
       "5595  queries_id5595  relevantdocs_id230\n",
       "5788  queries_id5788  relevantdocs_id422\n",
       "\n",
       "[2302 rows x 2 columns]"
      ]
     },
     "execution_count": 18,
     "metadata": {},
     "output_type": "execute_result"
    }
   ],
   "source": [
    "eval"
   ]
  }
 ],
 "metadata": {
  "kernelspec": {
   "display_name": ".venv",
   "language": "python",
   "name": "python3"
  },
  "language_info": {
   "codemirror_mode": {
    "name": "ipython",
    "version": 3
   },
   "file_extension": ".py",
   "mimetype": "text/x-python",
   "name": "python",
   "nbconvert_exporter": "python",
   "pygments_lexer": "ipython3",
   "version": "3.10.12"
  }
 },
 "nbformat": 4,
 "nbformat_minor": 2
}
