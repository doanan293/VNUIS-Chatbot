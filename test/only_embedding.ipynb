{
 "cells": [
  {
   "cell_type": "code",
   "execution_count": 3,
   "metadata": {},
   "outputs": [
    {
     "name": "stdout",
     "output_type": "stream",
     "text": [
      "/home/admin-hieunn/important/VNUIS-Chatbot\n"
     ]
    },
    {
     "name": "stderr",
     "output_type": "stream",
     "text": [
      "/home/admin-hieunn/important/VNUIS-Chatbot/.venv/lib/python3.10/site-packages/IPython/core/magics/osm.py:417: UserWarning: This is now an optional IPython functionality, setting dhist requires you to install the `pickleshare` library.\n",
      "  self.shell.db['dhist'] = compress_dhist(dhist)[-100:]\n"
     ]
    }
   ],
   "source": [
    "cd .."
   ]
  },
  {
   "cell_type": "code",
   "execution_count": 4,
   "metadata": {},
   "outputs": [
    {
     "name": "stderr",
     "output_type": "stream",
     "text": [
      "/home/admin-hieunn/important/VNUIS-Chatbot/.venv/lib/python3.10/site-packages/sentence_transformers/cross_encoder/CrossEncoder.py:13: TqdmWarning: IProgress not found. Please update jupyter and ipywidgets. See https://ipywidgets.readthedocs.io/en/stable/user_install.html\n",
      "  from tqdm.autonotebook import tqdm, trange\n"
     ]
    }
   ],
   "source": [
    "from sentence_transformers import SentenceTransformer, util\n",
    "import torch\n",
    "import numpy as np\n",
    "import pandas as pd\n",
    "import textwrap\n",
    "import time\n",
    "import sys\n",
    "import locale\n",
    "import os\n",
    "from dotenv import load_dotenv\n",
    "import json\n",
    "\n",
    "load_dotenv()\n",
    "# Load models and data once\n",
    "embedding_path = \"Model/vnuis_embedding_bge_20241227\"\n",
    "embedding_model = SentenceTransformer(\n",
    "    model_name_or_path=embedding_path,\n",
    "    model_kwargs={\"torch_dtype\": \"bfloat16\"},\n",
    "    device=\"cuda\",\n",
    "    trust_remote_code=True,\n",
    ")\n",
    "import torch\n",
    "from transformers import AutoModelForSequenceClassification, AutoTokenizer\n",
    "\n",
    "rerank_tokenizer = AutoTokenizer.from_pretrained(\"Model/bge-reranker-v2-m3\")\n",
    "rerank_model = AutoModelForSequenceClassification.from_pretrained(\n",
    "    \"Model/bge-reranker-v2-m3\", torch_dtype=torch.bfloat16, device_map=\"cuda:0\"\n",
    ")\n",
    "rerank_model.eval()\n",
    "\n",
    "\n",
    "# Load embeddings and data once\n",
    "def load_embeddings(embeddings_path, device):\n",
    "    try:\n",
    "        text_chunks_and_embedding_df = pd.read_csv(embeddings_path)\n",
    "\n",
    "        # Convert the embedding column from JSON strings to lists of floats\n",
    "        text_chunks_and_embedding_df[\"embedding\"] = text_chunks_and_embedding_df[\n",
    "            \"embedding\"\n",
    "        ].apply(json.loads)\n",
    "\n",
    "        # Convert embeddings to PyTorch tensors\n",
    "        embeddings = torch.tensor(\n",
    "            np.array(text_chunks_and_embedding_df[\"embedding\"].tolist()),\n",
    "            dtype=torch.bfloat16,\n",
    "        ).to(device)\n",
    "\n",
    "        pages_and_chunks = text_chunks_and_embedding_df.to_dict(orient=\"records\")\n",
    "    except Exception as e:\n",
    "        raise RuntimeError(f\"Failed to load embeddings: {e}\")\n",
    "\n",
    "    return embeddings, pages_and_chunks\n",
    "\n",
    "\n",
    "embeddings, pages_and_chunks = load_embeddings(\n",
    "    embeddings_path=\"Data/DB/ChunksAndEmbedding.csv\", device=\"cuda\"\n",
    ")\n",
    "\n",
    "\n",
    "# Function to retrieve relevant resources\n",
    "def retrieve_relevant_resources(\n",
    "    query: str,\n",
    "    number_result_embedding: int = 20,\n",
    "    number_result_reranking: int = 5,\n",
    "    threshold: int = -4,\n",
    "):\n",
    "    query_embedding = embedding_model.encode(query, convert_to_tensor=True)\n",
    "    # cosine_scores = util.pytorch_cos_sim(query_embedding, embeddings)[0]\n",
    "    dot_scores = util.dot_score(query_embedding, embeddings)[0]\n",
    "\n",
    "    # Get top scores with a threshold\n",
    "    # scores, indices = torch.topk(input=cosine_scores, k=n_resources_to_return)\n",
    "    scores, indices = torch.topk(input=dot_scores, k=number_result_embedding)\n",
    "    print(scores)\n",
    "\n",
    "    context_items = [pages_and_chunks[i] for i in indices]\n",
    "    results = [item[\"Relevant docs\"] for item in context_items]\n",
    "\n",
    "    pairs = [[query, result] for result in results]\n",
    "\n",
    "    with torch.no_grad():\n",
    "        inputs = rerank_tokenizer(\n",
    "            pairs, padding=True, truncation=True, return_tensors=\"pt\", max_length=1024\n",
    "        )\n",
    "        inputs = {\n",
    "            key: value.to(\"cuda\") for key, value in inputs.items()\n",
    "        }  # Move all inputs to the same device as the model\n",
    "\n",
    "        # Compute scores\n",
    "        rerank_scores = rerank_model(**inputs, return_dict=True).logits.view(\n",
    "            -1,\n",
    "        )\n",
    "\n",
    "        top_scores, top_indices = torch.topk(rerank_scores, k=number_result_reranking)\n",
    "        # Help me add script to only take the score > -3\n",
    "        filtered_indices = top_indices[top_scores > threshold]\n",
    "        rerank_result = [results[i] for i in filtered_indices]\n",
    "\n",
    "    return results, scores, top_scores, rerank_result\n",
    "    # return rerank_result"
   ]
  },
  {
   "cell_type": "code",
   "execution_count": 55,
   "metadata": {},
   "outputs": [
    {
     "name": "stdout",
     "output_type": "stream",
     "text": [
      "tensor([0.6680, 0.6562, 0.6523, 0.6484, 0.6484, 0.6445, 0.6367, 0.6367, 0.6328,\n",
      "        0.6289, 0.6250, 0.6211, 0.6172, 0.6172, 0.6133, 0.6133, 0.6133, 0.6094,\n",
      "        0.6094, 0.6094, 0.6094, 0.6094, 0.6055, 0.6055, 0.6055, 0.6016, 0.6016,\n",
      "        0.6016, 0.6016, 0.5977, 0.5977, 0.5977, 0.5977, 0.5898, 0.5898, 0.5898,\n",
      "        0.5898, 0.5898, 0.5898, 0.5859, 0.5859, 0.5820, 0.5820, 0.5820, 0.5820,\n",
      "        0.5781, 0.5781, 0.5742, 0.5703, 0.5703, 0.5664, 0.5664, 0.5664, 0.5586,\n",
      "        0.5547, 0.5547, 0.5547, 0.5508, 0.5508, 0.5508], device='cuda:0',\n",
      "       dtype=torch.bfloat16)\n"
     ]
    }
   ],
   "source": [
    "query = \"Hướng nghiên cứu của thầy Pham Đức Thọ là gì?\"\n",
    "results, scores, top_scores, rerank_result = retrieve_relevant_resources(\n",
    "    query=query, number_result_embedding=60, number_result_reranking=2, threshold = -3.8)"
   ]
  },
  {
   "cell_type": "code",
   "execution_count": 56,
   "metadata": {},
   "outputs": [
    {
     "data": {
      "text/plain": [
       "['Hướng nghiên cứu của PGS. TS. Nguyễn Hải Thanh là gì?\\nHướng nghiên cứu của PGS. TS.Nguyễn Hải Thanh:\\nHướng nghiên cứu: Các phương pháp tối ưu hóa một và đa mục tiêu và ứng dụng; Tính toán mờ và ứng dụng.\\n',\n",
       " 'Hướng nghiên cứu của TS. Thân Văn Thái là gì?\\nHướng nghiên cứu của TS. Thân Văn Thái\\n\\nBệnh truyền nhiễm\\nY sinh học phân tử\\nChẩn đoán phân tử\\nMiễn dịch học\\nVắc-xin',\n",
       " 'nan\\nHướng nghiên cứu của PGS. TS.Nguyễn Hải Thanh:\\nHướng nghiên cứu: Các phương pháp tối ưu hóa một và đa mục tiêu và ứng dụng; Tính toán mờ và ứng dụng.\\n',\n",
       " 'Đưa ra một số hướng nghiên cứu của PGS. TS. Nguyễn Hải Thanh?\\nHướng nghiên cứu của PGS. TS.Nguyễn Hải Thanh:\\nHướng nghiên cứu: Các phương pháp tối ưu hóa một và đa mục tiêu và ứng dụng; Tính toán mờ và ứng dụng.\\n',\n",
       " 'Hướng nghiên cứu của PGS. TS Trần Thị Ngân là gì?\\nHướng nghiên cứu của PGS. TS Trần Thị Ngân\\n\\nTrí tuệ nhân tạo\\nCác phương pháp phân cụm mờ',\n",
       " 'PGS. TS. Nguyễn Hải Thanh nghiên cứu về những lĩnh vực nào?\\nHướng nghiên cứu của PGS. TS.Nguyễn Hải Thanh:\\nHướng nghiên cứu: Các phương pháp tối ưu hóa một và đa mục tiêu và ứng dụng; Tính toán mờ và ứng dụng.\\n',\n",
       " 'Các lĩnh vực nghiên cứu của PGS. TS. Nguyễn Hải Thanh bao gồm những gì?\\nHướng nghiên cứu của PGS. TS.Nguyễn Hải Thanh:\\nHướng nghiên cứu: Các phương pháp tối ưu hóa một và đa mục tiêu và ứng dụng; Tính toán mờ và ứng dụng.\\n',\n",
       " 'Đưa ra các hướng nghiên cứu của TS. Thân Văn Thái?\\nHướng nghiên cứu của TS. Thân Văn Thái\\n\\nBệnh truyền nhiễm\\nY sinh học phân tử\\nChẩn đoán phân tử\\nMiễn dịch học\\nVắc-xin',\n",
       " 'Các hướng nghiên cứu của TS. Thân Văn Thái bao gồm những gì?\\nHướng nghiên cứu của TS. Thân Văn Thái\\n\\nBệnh truyền nhiễm\\nY sinh học phân tử\\nChẩn đoán phân tử\\nMiễn dịch học\\nVắc-xin',\n",
       " 'Hướng nghiên cứu của Chuyên viên Vũ Thị Sương Mai là gì?\\nHướng nghiên cứu của chuyên viên Vũ Thị Sương Mai\\n\\nTế bào gốc trong điều trị, mỹ phẩm và dược phẩm\\nY sinh học phân tử (miễn dịch học, di truyền y học và dịch tễ học phân tử)\\nDinh dưỡng thực phẩm, sức khỏe cộng đồng\\nSức khỏe môi trường',\n",
       " 'Các hướng nghiên cứu chính của PGS. TS Trần Thị Ngân là gì?\\nHướng nghiên cứu của PGS. TS Trần Thị Ngân\\n\\nTrí tuệ nhân tạo\\nCác phương pháp phân cụm mờ',\n",
       " 'Hướng nghiên cứu của TS.Kim Đình Thái là gì?\\nHướng nghiên cứu của TS.Kim Đình Thái\\n\\nKhoa học dữ liệu và Trí tuệ nhân tạo\\nLý thuyết Điều khiển và Robot\\nHệ thống nhúng và IoT',\n",
       " 'Hướng nghiên cứu của ThS.Bùi Nhật Lệ là gì?\\nHướng nghiên cứu của ThS.Bùi Nhật Lệ:\\n\\nTế bào gốc trong điều trị, mỹ phẩm và dược phẩm\\nY sinh học phân tử (miễn dịch học, di truyền y học và dịch tễ học phân tử)\\nDinh dưỡng thực phẩm, sức khỏe cộng đồng\\nSức khỏe môi trường',\n",
       " 'Hướng nghiên cứu của ThS.Vũ Thị Huệ là gì?\\nHướng nghiên cứu của ThS. Vũ Thị Huệ\\n\\nTế bào gốc trong điều trị, mỹ phẩm và dược phẩm\\nY sinh học phân tử (miễn dịch học, di truyền y học và dịch tễ học phân tử)\\nDinh dưỡng thực phẩm, sức khỏe cộng đồng\\nSức khỏe môi trường',\n",
       " 'Hướng nghiên cứu của TS. Trần Đức Quỳnh là gì?\\nHướng nghiên cứu của TS.Trần Đức Quỳnh: Mô hình và phương pháp tối ưu ứng dụng trong tài chính, giao thông, logistics; Học máy và ứng dụng; Tính toán mờ và ứng dụng.',\n",
       " 'Đưa ra các hướng nghiên cứu của ThS.Bùi Nhật Lệ?\\nHướng nghiên cứu của ThS.Bùi Nhật Lệ:\\n\\nTế bào gốc trong điều trị, mỹ phẩm và dược phẩm\\nY sinh học phân tử (miễn dịch học, di truyền y học và dịch tễ học phân tử)\\nDinh dưỡng thực phẩm, sức khỏe cộng đồng\\nSức khỏe môi trường',\n",
       " 'Hướng nghiên cứu của Nghiên cứu viên Nguyễn Thị Yến Vy là gì?\\nHướng nghiên cứu của Nghiên cứu viên Nguyễn Thị Yến Vy:\\n\\nTế bào gốc trong điều trị, mỹ phẩm và dược phẩm\\nY sinh học phân tử (miễn dịch học, di truyền y học và dịch tễ học phân tử)\\nDinh dưỡng thực phẩm, sức khỏe cộng đồng\\nSức khỏe môi trường',\n",
       " 'Các hướng nghiên cứu của TS. Trần Đức Quỳnh bao gồm?\\nHướng nghiên cứu của TS.Trần Đức Quỳnh: Mô hình và phương pháp tối ưu ứng dụng trong tài chính, giao thông, logistics; Học máy và ứng dụng; Tính toán mờ và ứng dụng.',\n",
       " 'Các hướng nghiên cứu của ThS.Bùi Nhật Lệ bao gồm những gì?\\nHướng nghiên cứu của ThS.Bùi Nhật Lệ:\\n\\nTế bào gốc trong điều trị, mỹ phẩm và dược phẩm\\nY sinh học phân tử (miễn dịch học, di truyền y học và dịch tễ học phân tử)\\nDinh dưỡng thực phẩm, sức khỏe cộng đồng\\nSức khỏe môi trường',\n",
       " 'Các hướng nghiên cứu của TS.Kim Đình Thái bao gồm những gì?\\nHướng nghiên cứu của TS.Kim Đình Thái\\n\\nKhoa học dữ liệu và Trí tuệ nhân tạo\\nLý thuyết Điều khiển và Robot\\nHệ thống nhúng và IoT',\n",
       " 'Đưa ra các hướng nghiên cứu của PGS. TS Trần Thị Ngân.\\nHướng nghiên cứu của PGS. TS Trần Thị Ngân\\n\\nTrí tuệ nhân tạo\\nCác phương pháp phân cụm mờ',\n",
       " 'Liệt kê các hướng nghiên cứu của Nghiên cứu viên Nguyễn Thị Yến Vy.\\nHướng nghiên cứu của Nghiên cứu viên Nguyễn Thị Yến Vy:\\n\\nTế bào gốc trong điều trị, mỹ phẩm và dược phẩm\\nY sinh học phân tử (miễn dịch học, di truyền y học và dịch tễ học phân tử)\\nDinh dưỡng thực phẩm, sức khỏe cộng đồng\\nSức khỏe môi trường',\n",
       " 'Đưa ra các hướng nghiên cứu của TS.Kim Đình Thái?\\nHướng nghiên cứu của TS.Kim Đình Thái\\n\\nKhoa học dữ liệu và Trí tuệ nhân tạo\\nLý thuyết Điều khiển và Robot\\nHệ thống nhúng và IoT',\n",
       " 'Các hướng nghiên cứu của ThS.Vũ Thị Huệ bao gồm những gì?\\nHướng nghiên cứu của ThS. Vũ Thị Huệ\\n\\nTế bào gốc trong điều trị, mỹ phẩm và dược phẩm\\nY sinh học phân tử (miễn dịch học, di truyền y học và dịch tễ học phân tử)\\nDinh dưỡng thực phẩm, sức khỏe cộng đồng\\nSức khỏe môi trường',\n",
       " 'Đưa ra các hướng nghiên cứu của ThS.Vũ Thị Huệ?\\nHướng nghiên cứu của ThS. Vũ Thị Huệ\\n\\nTế bào gốc trong điều trị, mỹ phẩm và dược phẩm\\nY sinh học phân tử (miễn dịch học, di truyền y học và dịch tễ học phân tử)\\nDinh dưỡng thực phẩm, sức khỏe cộng đồng\\nSức khỏe môi trường',\n",
       " 'Hướng nghiên cứu về y sinh học phân tử của TS. Chu Đình Tới là gì?\\nHướng nghiên cứu của TS.Chu Đình Tới:\\nTế bào gốc trong điều trị, mỹ phẩm và dược phẩm\\nY sinh học phân tử (miễn dịch học, di truyền y học và dịch tễ học phân tử)\\nDinh dưỡng thực phẩm\\nSức khỏe môi trường và sức khoẻ cộng động',\n",
       " 'nan\\nHướng nghiên cứu của TS.Chu Đình Tới:\\nTế bào gốc trong điều trị, mỹ phẩm và dược phẩm\\nY sinh học phân tử (miễn dịch học, di truyền y học và dịch tễ học phân tử)\\nDinh dưỡng thực phẩm\\nSức khỏe môi trường và sức khoẻ cộng động',\n",
       " 'Hướng nghiên cứu của PGS. TS. Trần Thị Oanh là gì?\\nHướng nghiên cứu PGS. TS.Trần Thị Oanh:\\n\\nXử lý ngôn ngữ tự nhiên\\nKhoa học dữ liệu trong kinh doanh',\n",
       " 'Tên các hướng nghiên cứu của TS. Trần Đức Quỳnh là gì?\\nHướng nghiên cứu của TS.Trần Đức Quỳnh: Mô hình và phương pháp tối ưu ứng dụng trong tài chính, giao thông, logistics; Học máy và ứng dụng; Tính toán mờ và ứng dụng.',\n",
       " 'Tên các hướng nghiên cứu của PGS. TS. Trần Thị Oanh là gì?\\nHướng nghiên cứu PGS. TS.Trần Thị Oanh:\\n\\nXử lý ngôn ngữ tự nhiên\\nKhoa học dữ liệu trong kinh doanh',\n",
       " 'Đưa ra các hướng nghiên cứu của Chuyên viên Vũ Thị Sương Mai.\\nHướng nghiên cứu của chuyên viên Vũ Thị Sương Mai\\n\\nTế bào gốc trong điều trị, mỹ phẩm và dược phẩm\\nY sinh học phân tử (miễn dịch học, di truyền y học và dịch tễ học phân tử)\\nDinh dưỡng thực phẩm, sức khỏe cộng đồng\\nSức khỏe môi trường',\n",
       " 'PGS. TS Trần Thị Ngân nghiên cứu các lĩnh vực nào?\\nHướng nghiên cứu của PGS. TS Trần Thị Ngân\\n\\nTrí tuệ nhân tạo\\nCác phương pháp phân cụm mờ',\n",
       " 'Các hướng nghiên cứu chính của Nghiên cứu viên Nguyễn Thị Yến Vy là gì?\\nHướng nghiên cứu của Nghiên cứu viên Nguyễn Thị Yến Vy:\\n\\nTế bào gốc trong điều trị, mỹ phẩm và dược phẩm\\nY sinh học phân tử (miễn dịch học, di truyền y học và dịch tễ học phân tử)\\nDinh dưỡng thực phẩm, sức khỏe cộng đồng\\nSức khỏe môi trường',\n",
       " 'Hướng nghiên cứu về tế bào gốc của TS. Chu Đình Tới là gì?\\nHướng nghiên cứu của TS.Chu Đình Tới:\\nTế bào gốc trong điều trị, mỹ phẩm và dược phẩm\\nY sinh học phân tử (miễn dịch học, di truyền y học và dịch tễ học phân tử)\\nDinh dưỡng thực phẩm\\nSức khỏe môi trường và sức khoẻ cộng động',\n",
       " 'Hướng nghiên cứu về dinh dưỡng của TS. Chu Đình Tới là gì?\\nHướng nghiên cứu của TS.Chu Đình Tới:\\nTế bào gốc trong điều trị, mỹ phẩm và dược phẩm\\nY sinh học phân tử (miễn dịch học, di truyền y học và dịch tễ học phân tử)\\nDinh dưỡng thực phẩm\\nSức khỏe môi trường và sức khoẻ cộng động',\n",
       " 'Các hướng nghiên cứu của PGS. TS. Trần Thị Oanh bao gồm?\\nHướng nghiên cứu PGS. TS.Trần Thị Oanh:\\n\\nXử lý ngôn ngữ tự nhiên\\nKhoa học dữ liệu trong kinh doanh',\n",
       " 'nan\\nHướng nghiên cứu của ThS.Bùi Nhật Lệ:\\n\\nTế bào gốc trong điều trị, mỹ phẩm và dược phẩm\\nY sinh học phân tử (miễn dịch học, di truyền y học và dịch tễ học phân tử)\\nDinh dưỡng thực phẩm, sức khỏe cộng đồng\\nSức khỏe môi trường',\n",
       " 'Hướng nghiên cứu của Giảng viên tập sự Đỗ Mạnh Dũng là gì?\\nHướng nghiên cứu của Giảng viên tập sự Đỗ Mạnh Dũng\\n\\nĐiều khiển thông minh\\nĐiều khiển tối ưu và học tăng cường\\nĐiều khiển quan sát thông minh ứng dụng trí tuệ nhân tạo',\n",
       " 'Các hướng nghiên cứu chính của TS Trần Tiến Tâm là gì?\\nLĩnh vực nghiên cứu của TS Trần Tiến Tâm\\n\\nHướng nghiên cứu: Ứng dụng quá trình Gauss trong Học máy, Học máy và tối ưu trên đa tạp\\nCác môn học giảng dạy: Lý thuyết xác suất và thống kê toán, Giải tích Toán Học.',\n",
       " 'TS. Thân Văn Thái nghiên cứu các lĩnh vực nào?\\nHướng nghiên cứu của TS. Thân Văn Thái\\n\\nBệnh truyền nhiễm\\nY sinh học phân tử\\nChẩn đoán phân tử\\nMiễn dịch học\\nVắc-xin',\n",
       " 'nan\\nHướng nghiên cứu của TS. Thân Văn Thái\\n\\nBệnh truyền nhiễm\\nY sinh học phân tử\\nChẩn đoán phân tử\\nMiễn dịch học\\nVắc-xin',\n",
       " 'Hướng nghiên cứu về sức khỏe môi trường của TS. Chu Đình Tới là gì?\\nHướng nghiên cứu của TS.Chu Đình Tới:\\nTế bào gốc trong điều trị, mỹ phẩm và dược phẩm\\nY sinh học phân tử (miễn dịch học, di truyền y học và dịch tễ học phân tử)\\nDinh dưỡng thực phẩm\\nSức khỏe môi trường và sức khoẻ cộng động',\n",
       " 'nan\\nHướng nghiên cứu của TS.Trần Đức Quỳnh: Mô hình và phương pháp tối ưu ứng dụng trong tài chính, giao thông, logistics; Học máy và ứng dụng; Tính toán mờ và ứng dụng.',\n",
       " 'nan\\nHướng nghiên cứu của chuyên viên Vũ Thị Sương Mai\\n\\nTế bào gốc trong điều trị, mỹ phẩm và dược phẩm\\nY sinh học phân tử (miễn dịch học, di truyền y học và dịch tễ học phân tử)\\nDinh dưỡng thực phẩm, sức khỏe cộng đồng\\nSức khỏe môi trường',\n",
       " 'nan\\nHướng nghiên cứu của Nghiên cứu viên Nguyễn Thị Yến Vy:\\n\\nTế bào gốc trong điều trị, mỹ phẩm và dược phẩm\\nY sinh học phân tử (miễn dịch học, di truyền y học và dịch tễ học phân tử)\\nDinh dưỡng thực phẩm, sức khỏe cộng đồng\\nSức khỏe môi trường',\n",
       " 'nan\\nHướng nghiên cứu của ThS. Vũ Thị Huệ\\n\\nTế bào gốc trong điều trị, mỹ phẩm và dược phẩm\\nY sinh học phân tử (miễn dịch học, di truyền y học và dịch tễ học phân tử)\\nDinh dưỡng thực phẩm, sức khỏe cộng đồng\\nSức khỏe môi trường',\n",
       " 'Các hướng nghiên cứu chính của TS Phạm Đức Thọ là gì?\\nMột số công bố của TS Phạm Đức Thọ\\n\\nLai, C.-H., Tho, P.-D.. (2023). Design and Development of a Personalized Recommender System of Student Question-Generation Exercises for Programming Courses. Paper presented at the 31th International Conference on Computers in Education.\\nTho, P.-D., Lai, C.-H.. (2022). Exploring the Behavior Patterns of Students Accessing Online Learning Material in Online Course: A Case Study at Hung Vuong University. Paper presented at the 30th International Conference on Computers in Education.\\nTho, P.-D., Lai, C.-H., & Tai, T.-T. (2021). Exploring Student Behavior during Student-Generated Questions Activities on Programming Learning. Paper presented at the 29th International Conference on Computers in Education.',\n",
       " 'TS. Trần Đức Quỳnh nghiên cứu về lĩnh vực nào?\\nHướng nghiên cứu của TS.Trần Đức Quỳnh: Mô hình và phương pháp tối ưu ứng dụng trong tài chính, giao thông, logistics; Học máy và ứng dụng; Tính toán mờ và ứng dụng.',\n",
       " 'Hướng nghiên cứu của TS.Hà Mạnh Hùng là gì?\\nHướng lĩnh vực nghiên cứu của TS.Hà Mạnh Hùng:\\n\\nHướng nghiên cứu\\n Phân tích Ảnh và Video\\nNhận dạng hành động  theo không gian-thời gian\\nNhận dạng sự kiện\\nPhân tích hành vi\\n2D3D phát hiện đối tượng\\nTruy vết đa đối tượng\\nNhận dạng mẫu\\nTrí tuệ nhân tạo, học máy, và dữ liệu thay thế\\nHệ thống thời gian thực.',\n",
       " 'nan\\nHướng nghiên cứu của PGS. TS Trần Thị Ngân\\n\\nTrí tuệ nhân tạo\\nCác phương pháp phân cụm mờ',\n",
       " 'Các hướng nghiên cứu của TS.Hà Mạnh Hùng bao gồm những gì?\\nHướng lĩnh vực nghiên cứu của TS.Hà Mạnh Hùng:\\n\\nHướng nghiên cứu\\n Phân tích Ảnh và Video\\nNhận dạng hành động  theo không gian-thời gian\\nNhận dạng sự kiện\\nPhân tích hành vi\\n2D3D phát hiện đối tượng\\nTruy vết đa đối tượng\\nNhận dạng mẫu\\nTrí tuệ nhân tạo, học máy, và dữ liệu thay thế\\nHệ thống thời gian thực.',\n",
       " 'TS.Hà Mạnh Hùng có những hướng nghiên cứu nào?\\nHướng lĩnh vực nghiên cứu của TS.Hà Mạnh Hùng:\\n\\nHướng nghiên cứu\\n Phân tích Ảnh và Video\\nNhận dạng hành động  theo không gian-thời gian\\nNhận dạng sự kiện\\nPhân tích hành vi\\n2D3D phát hiện đối tượng\\nTruy vết đa đối tượng\\nNhận dạng mẫu\\nTrí tuệ nhân tạo, học máy, và dữ liệu thay thế\\nHệ thống thời gian thực.',\n",
       " 'Đưa ra các hướng nghiên cứu của Giảng viên tập sự Đỗ Mạnh Dũng.\\nHướng nghiên cứu của Giảng viên tập sự Đỗ Mạnh Dũng\\n\\nĐiều khiển thông minh\\nĐiều khiển tối ưu và học tăng cường\\nĐiều khiển quan sát thông minh ứng dụng trí tuệ nhân tạo',\n",
       " 'nan\\nHướng nghiên cứu của TS.Kim Đình Thái\\n\\nKhoa học dữ liệu và Trí tuệ nhân tạo\\nLý thuyết Điều khiển và Robot\\nHệ thống nhúng và IoT',\n",
       " 'Tên các hướng nghiên cứu của TS. Trương Công Đoàn là gì?\\nHướng nghiên cứu của TS.Trương Công Đoàn:\\n\\nỨng dụng khoa học dữ liệu giải quyết các bài toán tài chính doanh nghiệp, thị trường chứng khoán\\nỨng dụng khoa học dữ liệu vào lĩnh vực marketing\\nPhân tích dữ liệu trong lĩnh vực ngân hàng\\nỨng dụng khoa học dữ liệu để hỗ trợ ra quyết định trong hệ thống thông tin doanh nghiệp\\nPhát triển ứng dụng trí tuệ nhân tạo cho doanh nghiệp\\nNghiên cứu, phát triển các mô hình học máy, học sâu cho các bài toán phân tích dữ liệu doanh nghiệp',\n",
       " 'Đưa ra một số hướng nghiên cứu của TS.Hà Mạnh Hùng?\\nHướng lĩnh vực nghiên cứu của TS.Hà Mạnh Hùng:\\n\\nHướng nghiên cứu\\n Phân tích Ảnh và Video\\nNhận dạng hành động  theo không gian-thời gian\\nNhận dạng sự kiện\\nPhân tích hành vi\\n2D3D phát hiện đối tượng\\nTruy vết đa đối tượng\\nNhận dạng mẫu\\nTrí tuệ nhân tạo, học máy, và dữ liệu thay thế\\nHệ thống thời gian thực.',\n",
       " 'Liệt kê các hướng nghiên cứu của giảng viên tập sự Hoàng Duy.\\nHướng nghiên cứu của giảng viên tập sự Hoàng Duy:\\n\\nĐiều khiển thông minh\\nHệ thống tay máy Robot\\nĐiều khiển tối ưu và học tăng cường',\n",
       " 'ThS.Bùi Nhật Lệ nghiên cứu các lĩnh vực nào?\\nHướng nghiên cứu của ThS.Bùi Nhật Lệ:\\n\\nTế bào gốc trong điều trị, mỹ phẩm và dược phẩm\\nY sinh học phân tử (miễn dịch học, di truyền y học và dịch tễ học phân tử)\\nDinh dưỡng thực phẩm, sức khỏe cộng đồng\\nSức khỏe môi trường',\n",
       " 'nan\\nHướng nghiên cứu của Giảng viên tập sự Đỗ Mạnh Dũng\\n\\nĐiều khiển thông minh\\nĐiều khiển tối ưu và học tăng cường\\nĐiều khiển quan sát thông minh ứng dụng trí tuệ nhân tạo',\n",
       " 'Nghiên cứu viên Nguyễn Thị Yến Vy nghiên cứu những lĩnh vực nào?\\nHướng nghiên cứu của Nghiên cứu viên Nguyễn Thị Yến Vy:\\n\\nTế bào gốc trong điều trị, mỹ phẩm và dược phẩm\\nY sinh học phân tử (miễn dịch học, di truyền y học và dịch tễ học phân tử)\\nDinh dưỡng thực phẩm, sức khỏe cộng đồng\\nSức khỏe môi trường']"
      ]
     },
     "execution_count": 56,
     "metadata": {},
     "output_type": "execute_result"
    }
   ],
   "source": [
    "results"
   ]
  },
  {
   "cell_type": "code",
   "execution_count": 57,
   "metadata": {},
   "outputs": [
    {
     "data": {
      "text/plain": [
       "tensor([0.6680, 0.6562, 0.6523, 0.6484, 0.6484, 0.6445, 0.6367, 0.6367, 0.6328,\n",
       "        0.6289, 0.6250, 0.6211, 0.6172, 0.6172, 0.6133, 0.6133, 0.6133, 0.6094,\n",
       "        0.6094, 0.6094, 0.6094, 0.6094, 0.6055, 0.6055, 0.6055, 0.6016, 0.6016,\n",
       "        0.6016, 0.6016, 0.5977, 0.5977, 0.5977, 0.5977, 0.5898, 0.5898, 0.5898,\n",
       "        0.5898, 0.5898, 0.5898, 0.5859, 0.5859, 0.5820, 0.5820, 0.5820, 0.5820,\n",
       "        0.5781, 0.5781, 0.5742, 0.5703, 0.5703, 0.5664, 0.5664, 0.5664, 0.5586,\n",
       "        0.5547, 0.5547, 0.5547, 0.5508, 0.5508, 0.5508], device='cuda:0',\n",
       "       dtype=torch.bfloat16)"
      ]
     },
     "execution_count": 57,
     "metadata": {},
     "output_type": "execute_result"
    }
   ],
   "source": [
    "scores"
   ]
  },
  {
   "cell_type": "code",
   "execution_count": 58,
   "metadata": {},
   "outputs": [
    {
     "data": {
      "text/plain": [
       "tensor([ 3.4375, -2.7812], device='cuda:0', dtype=torch.bfloat16)"
      ]
     },
     "execution_count": 58,
     "metadata": {},
     "output_type": "execute_result"
    }
   ],
   "source": [
    "top_scores"
   ]
  },
  {
   "cell_type": "code",
   "execution_count": 59,
   "metadata": {},
   "outputs": [
    {
     "data": {
      "text/plain": [
       "['Các hướng nghiên cứu chính của TS Phạm Đức Thọ là gì?\\nMột số công bố của TS Phạm Đức Thọ\\n\\nLai, C.-H., Tho, P.-D.. (2023). Design and Development of a Personalized Recommender System of Student Question-Generation Exercises for Programming Courses. Paper presented at the 31th International Conference on Computers in Education.\\nTho, P.-D., Lai, C.-H.. (2022). Exploring the Behavior Patterns of Students Accessing Online Learning Material in Online Course: A Case Study at Hung Vuong University. Paper presented at the 30th International Conference on Computers in Education.\\nTho, P.-D., Lai, C.-H., & Tai, T.-T. (2021). Exploring Student Behavior during Student-Generated Questions Activities on Programming Learning. Paper presented at the 29th International Conference on Computers in Education.',\n",
       " 'Hướng nghiên cứu của ThS.Bùi Nhật Lệ là gì?\\nHướng nghiên cứu của ThS.Bùi Nhật Lệ:\\n\\nTế bào gốc trong điều trị, mỹ phẩm và dược phẩm\\nY sinh học phân tử (miễn dịch học, di truyền y học và dịch tễ học phân tử)\\nDinh dưỡng thực phẩm, sức khỏe cộng đồng\\nSức khỏe môi trường']"
      ]
     },
     "execution_count": 59,
     "metadata": {},
     "output_type": "execute_result"
    }
   ],
   "source": [
    "rerank_result"
   ]
  },
  {
   "cell_type": "code",
   "execution_count": null,
   "metadata": {},
   "outputs": [],
   "source": []
  }
 ],
 "metadata": {
  "kernelspec": {
   "display_name": ".venv",
   "language": "python",
   "name": "python3"
  },
  "language_info": {
   "codemirror_mode": {
    "name": "ipython",
    "version": 3
   },
   "file_extension": ".py",
   "mimetype": "text/x-python",
   "name": "python",
   "nbconvert_exporter": "python",
   "pygments_lexer": "ipython3",
   "version": "3.10.12"
  }
 },
 "nbformat": 4,
 "nbformat_minor": 2
}
