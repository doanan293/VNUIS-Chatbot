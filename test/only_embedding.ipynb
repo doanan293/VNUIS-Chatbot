{
 "cells": [
  {
   "cell_type": "code",
   "execution_count": 1,
   "metadata": {},
   "outputs": [
    {
     "name": "stdout",
     "output_type": "stream",
     "text": [
      "/home/andv/important/chatbot_vnuis\n"
     ]
    },
    {
     "name": "stderr",
     "output_type": "stream",
     "text": [
      "/home/andv/important/chatbot_vnuis/.venv/lib/python3.10/site-packages/IPython/core/magics/osm.py:417: UserWarning: This is now an optional IPython functionality, setting dhist requires you to install the `pickleshare` library.\n",
      "  self.shell.db['dhist'] = compress_dhist(dhist)[-100:]\n"
     ]
    }
   ],
   "source": [
    "cd .."
   ]
  },
  {
   "cell_type": "code",
   "execution_count": 2,
   "metadata": {},
   "outputs": [
    {
     "name": "stderr",
     "output_type": "stream",
     "text": [
      "/home/andv/important/chatbot_vnuis/.venv/lib/python3.10/site-packages/sentence_transformers/cross_encoder/CrossEncoder.py:13: TqdmWarning: IProgress not found. Please update jupyter and ipywidgets. See https://ipywidgets.readthedocs.io/en/stable/user_install.html\n",
      "  from tqdm.autonotebook import tqdm, trange\n"
     ]
    }
   ],
   "source": [
    "from sentence_transformers import SentenceTransformer, util\n",
    "import torch\n",
    "import numpy as np\n",
    "import pandas as pd\n",
    "import textwrap\n",
    "import time\n",
    "import sys\n",
    "import locale\n",
    "import os\n",
    "from dotenv import load_dotenv\n",
    "import json\n",
    "\n",
    "load_dotenv()\n",
    "# Load models and data once\n",
    "embedding_path = \"Model/vnuis_embedding_bge_final\"\n",
    "embedding_model = SentenceTransformer(\n",
    "    model_name_or_path=embedding_path,\n",
    "    model_kwargs={\"torch_dtype\": \"bfloat16\"},\n",
    "    device=\"cuda\",\n",
    "    trust_remote_code=True,\n",
    ")\n",
    "import torch\n",
    "from transformers import AutoModelForSequenceClassification, AutoTokenizer\n",
    "\n",
    "rerank_tokenizer = AutoTokenizer.from_pretrained(\"BAAI/bge-reranker-v2-m3\")\n",
    "rerank_model = AutoModelForSequenceClassification.from_pretrained(\n",
    "    \"BAAI/bge-reranker-v2-m3\", torch_dtype=torch.bfloat16, device_map=\"cuda:0\"\n",
    ")\n",
    "rerank_model.eval()\n",
    "\n",
    "\n",
    "# Load embeddings and data once\n",
    "def load_embeddings(embeddings_path, device):\n",
    "    try:\n",
    "        text_chunks_and_embedding_df = pd.read_csv(embeddings_path)\n",
    "\n",
    "        # Convert the embedding column from JSON strings to lists of floats\n",
    "        text_chunks_and_embedding_df[\"embedding\"] = text_chunks_and_embedding_df[\n",
    "            \"embedding\"\n",
    "        ].apply(json.loads)\n",
    "\n",
    "        # Convert embeddings to PyTorch tensors\n",
    "        embeddings = torch.tensor(\n",
    "            np.array(text_chunks_and_embedding_df[\"embedding\"].tolist()),\n",
    "            dtype=torch.bfloat16,\n",
    "        ).to(device)\n",
    "\n",
    "        pages_and_chunks = text_chunks_and_embedding_df.to_dict(orient=\"records\")\n",
    "    except Exception as e:\n",
    "        raise RuntimeError(f\"Failed to load embeddings: {e}\")\n",
    "\n",
    "    return embeddings, pages_and_chunks\n",
    "\n",
    "\n",
    "embeddings, pages_and_chunks = load_embeddings(\n",
    "    embeddings_path=\"Data/Embedding.csv\", device=\"cuda\"\n",
    ")\n",
    "\n",
    "\n",
    "# Function to retrieve relevant resources\n",
    "def retrieve_relevant_resources(\n",
    "    query: str, result_embedding: int = 20, result_reranking: int = 5\n",
    "):\n",
    "    query_embedding = embedding_model.encode(query, convert_to_tensor=True)\n",
    "    # Use cosine similarity instead of dot score\n",
    "    dot_scores = util.dot_score(query_embedding, embeddings)[0]\n",
    "\n",
    "    # Get top scores with a threshold\n",
    "    scores, indices = torch.topk(input=dot_scores, k=result_embedding)\n",
    "\n",
    "    # cosine_scores = util.pytorch_cos_sim(query_embedding, embeddings)[0]\n",
    "    # scores, indices = torch.topk(input=cosine_scores, k=n_resources_to_return)\n",
    "    context_items = [pages_and_chunks[i] for i in indices]\n",
    "\n",
    "    results = [item[\"Relevant docs\"] for item in context_items]\n",
    "\n",
    "    # ques_results = [item[\"Question\"] for item in context_items]\n",
    "    pairs = [[query, result] for result in results]\n",
    "\n",
    "    with torch.no_grad():\n",
    "        inputs = rerank_tokenizer(\n",
    "            pairs, padding=True, truncation=True, return_tensors=\"pt\", max_length=526\n",
    "        )\n",
    "        inputs = {\n",
    "            key: value.to(\"cuda\") for key, value in inputs.items()\n",
    "        }  # Move all inputs to the same device as the model\n",
    "\n",
    "        # Compute scores\n",
    "        rerank_scores = rerank_model(**inputs, return_dict=True).logits.view(\n",
    "            -1,\n",
    "        )\n",
    "\n",
    "        top_scores, top_indices = torch.topk(rerank_scores, k=result_reranking)\n",
    "        rerank_result = [results[i] for i in top_indices]\n",
    "    return results, scores, top_scores, rerank_result"
   ]
  },
  {
   "cell_type": "code",
   "execution_count": 36,
   "metadata": {},
   "outputs": [],
   "source": [
    "query = \"Bạn tên là gì?\"\n",
    "results, scores, top_scores, rerank_result = retrieve_relevant_resources(\n",
    "    query=query, result_embedding=20, result_reranking=5\n",
    ")"
   ]
  },
  {
   "cell_type": "code",
   "execution_count": 37,
   "metadata": {},
   "outputs": [
    {
     "data": {
      "text/plain": [
       "['Chào bạn tôi là VNU-IS Chatbot, bạn cần hỗ trợ gì ạ?',\n",
       " 'Tôi là VNU-IS Chatbot, hỗ trợ bạn giải đáp những thắc mắc liên quan đến Trường Quốc Tế - Đại học Quốc gia Hà Nội',\n",
       " 'Nếu mỗi nốt nhạc thể hiện một khung bậc của cảm xúc thì ISHUFFLE chính là bản giao hưởng đó. Đến với ISHUFFLE bạn sẽ được trải nghiệm bản nhạc đó bằng cách chân thực nhất có thể. Ngay bây giờ, hãy xem, đến với CLB của chúng mình các bạn sẽ được trải nghiệm những gì nha\\n\\nChúng mình tên gì?\\n\\n– Tên Tiếng Việt: Câu lạc bộ Âm nhạc ISHUFFLE\\n\\n– Tên Tiếng Anh: ISHUFFLE Music Club\\n\\nLĩnh vực hoạt động là gì?\\nĐúng như cái tên, Âm nhạc là lĩnh vực hoạt động chính của chúng mình. Ngoài ca hát, chúng mình còn thêm những vị trí khác như guitar, piano, drum và rap.\\nVề định hướng phát triển?\\nVới sự phát triển không ngừng nghỉ, ISHUFFLE luôn cố gắng tạo ra những sân chơi cho những bạn trẻ đam mê và yêu thích âm nhạc. Là nơi cầu nối gắn kết các mảnh ghép rời rạc thành một bức tranh đa sắc màu, thành một “gia đình” đoàn kết. Không có điểm dừng hay khái niệm cụ thể nào cho âm nhạc. Chúng mình luôn trân trọng những tài năng âm nhạc trẻ và sẵn sàng đồng hành cùng các bạn để phát triển niềm đam mê ấy.\\nTrang fanpage của câu lạc bộ âm nhạc - IShuffle: https://www.facebook.com/ishuffleband',\n",
       " 'Các câu hỏi thường gặp \\n1. Thủ tục hành chính\\n– Xác nhận sinh viên\\n– BHYT\\n– Thẻ sinh viên\\n– Làm vé tháng xe buýt\\n=> Liên hệ: Phòng Công tác sinh viên 303C, Làng sinh viên Hacinco\\n=> Hotline: 086 296 6068\\n2. Đoàn Thanh niên\\nCác công tác Đoàn vụ và thông tin về Đoàn Thanh niên: youth.isvnu.vn\\n3. Học tập\\n– Thủ tục học vụ, bảo lưu, thôi học,\\n=> Liên hệ: Phòng Đào tạo 309C, Làng sinh viên Hacinco \\n– Đăng ký tín chỉ\\n– Công nợ, học phí và các thắc mắc liên quan đến tài chính\\n=> Truy cập: https://sv.isvnu.vn/sinh-vien-dang-nhap.html\\n4. Hỗ trợ kỹ thuật\\n– Lấy lại tài khoản email VNU: service@vnuis.edu.vn\\n– Lấy lại tài khoản SV Portal: thangcv@vnuis.edu.vn \\n5. Dịch vụ tham vấn tâm lý\\n– Đặt lịch trực tuyến tại: https://forms.gle/615wsnbDAvk2SjkL7\\n– Email: phuongntn@vnuis.edu.vn\\n– Hotline: +84966408685\\n– Facebook: https://www.facebook.com/vnuiscounsellingservices/\\nhttps://www.is.vnu.edu.vn/doi-song-sinh-vien/cac-cau-hoi-thuong-gap/',\n",
       " 'ISFIGHT được sáng lập bởi võ sư Trần Hoàng Hiệp – cựu sinh viên lớp AC2015E (K14). Thành lập từ tháng 11/2016, CLB đến nay tròn 4 năm tuổi.\\n\\nName:\\n\\nTên tiếng việt: CLB Võ Thuật- Khoa Quốc tế Đại học Quốc gia Hà Nội.\\nTên tiếng anh: International School Martial Arts Club – VNU.\\nTên viết tắt : ISFIGHT\\n\\nTrang fanpage của câu lạc bộ Võ thuật trường Quốc tế - ISFIGHT: https://www.facebook.com/ISFVNU112016',\n",
       " 'Thông tin về Câu lạc bộ iSupport\\n CLB iSupport ra đời vào tháng 09 năm 2014 trực thuộc Đoàn Trường Quốc tế – ĐHQGHN. Trong suốt gần 7 năm hoạt động, iSupport đã và đang nỗ lực, phấn đấu không ngừng nghỉ để trở thành CLB sinh viên hàng đầu về mảng học thuật, phát triển kỹ năng mềm cho sinh viên Trường Quốc tế nói riêng và cho cộng đồng giới trẻ nói chung.\\n\\n– Tên tiếng Việt: Câu lạc bộ Hỗ trợ học tập và phát triển kỹ năng mềm\\n– Tên tiếng Anh: Supporting in Studying and Developing Soft Skills Club\\n– Tên rút gọn: iSupport\\n\\nTheo dõi Fanpage câu lạc bộ Hỗ trợ học tập và phát triển kĩ năng mềm - iSupport để biết thêm thông tin: : https://www.facebook.com/iSupport.ISVNU',\n",
       " '“Trong cuộc sống không có kẻ địch nào có thể sánh ngang với bệnh tật và cũng chẳng thể có một người bạn nào đáng trân quý hơn đó là sức khỏe”. Đặc biệt việc rèn luyện sức khỏe hàng ngày thông qua các bộ môn thể thao mang lại rất nhiều lợi ích cho mỗi bản thân chúng ta. Đó là lý do mà ISMASH – CLB Cầu lông Trường Quốc tế ra đời. Đến với ISMASH, bạn sẽ được cháy hết mình với đam mê, thỏa sức tập luyện cùng những người bạn và nâng cao trình độ của bản thân.\\n\\nTên Tiếng Anh: VNU IS Badminton Club\\nTên Tiếng Việt: Câu lạc bộ Cầu lông Trường Quốc tế\\nTên viết tắt: ISMASH\\nSlogan: Control Your Passion For Life\\nMục đích: CLB Cầu lông Trường Quốc tế ISMASH được thành lập với phương châm là tạo ra một sân chơi bổ ích dành cho những người cùng có niềm đam mê với bộ môn cầu lông được phát huy khả năng của mình, mong muốn động viên, khích lệ tinh thần cho sinh viên thông qua các hoạt động thể thao ý nghĩa. Ngoài ra nhằm đem đến những kiến thức chuyên sâu về cầu lông cho mọi người, qua đó góp phần lan tỏa tinh thần thể thao đến cộng đồng.\\nTrang fanpage của câu lạc bộ Câu lông trường Quốc tế - ISMASH: https://www.facebook.com/ismashclub',\n",
       " 'Hướng nghiên cứu của Cô Phạm Thanh Huyền là về lĩnh vực Marketing (Tiếp thị)\\n1. Hành vi khách hàng (Customer behavior)\\n2. Tâm lý khách hàng và cân bằng công việc - cuộc sống (Customer’s psychology & work-life balance)\\n3. Tiếp thị xanh (Green Marketing)',\n",
       " 'Địa chỉ  liên hệ:\\nThông tin hữu ích Bạn có thể đặt lịch trực tuyến tại: https://forms.gle/615wsnbDAvk2SjkL7 \\nGửi email cho chuyên gia tâm lý để chia sẻ những băn khoăn: phuongntn@vnuis.edu.vn\\n Hoặc gọi điện vào hotline Dịch vụ tham vấn tâm lý: +84966408685 \\nĐọc các bài viết về tâm lý, phát triển bản thân và hướng nghiệp; đồng thời chia sẻ với chúng tôi qua facebook: https://www.facebook.com/vnuiscounsellingservices/ VNUIS-Conselling service',\n",
       " '\\nĐăng ký nhận tư vấn xét tuyển tại: https://tuyensinh.isvnu.vn/xet-tuyen-thang-vnu\\n',\n",
       " 'Sự ra đời của Dịch vụ Tham vấn:\\nMôi trường đại học là một sự thay đổi hoàn toàn mới mẻ, với những khám phá, trải nghiệm thú vị; bên cạnh đó là những khó khăn thử thách…mang đến biết bao những cung bậc cảm xúc từ hào hứng vui sướng hạnh phúc đến mệt mỏi, chán nản, thất vọng… Tìm hiểu về bản thân, định hướng nghề nghiệp tương lai và các mối quan hệ trong gia đình, tình yêu, bè bạn,.. luôn là những điều trăn trở của tuổi trẻ.\\n\\nLắng nghe và thấu hiểu tâm tư ấy, đồng thời nâng cao chất lượng dịch vụ cho sinh viên theo chuẩn quốc tế và tạo môi trường học tập thoải mái và thân thiện giúp các bạn phát triển toàn diện cả về kiến thức, kỹ năng cũng như sức khỏe tinh thần (well-being), Phòng Công tác sinh viên của Trường Quốc tế đã triển khai Dịch vụ Tham vấn. Chúng tôi tự hào vì là đơn vị tiên phong trong Đại học Quốc Gia Hà Nội và các trường Đại học tại Việt Nam triển khai mô hình dịch vụ này cho sinh viên.\\n\\n',\n",
       " 'THÔNG TIN LIÊN HỆ\\nĐăng ký nhận tư vấn: TẠI ĐÂY\\n\\nEmail: tuyensinhthacsi@vnuis.edu.vn\\n\\nVăn phòng tuyển sinh, Trường Quốc tế – ĐHQGHN\\n\\nNhà G8, 144 Xuân Thủy, Cầu Giấy, Hà Nội.\\n\\nĐT: (024) 367 20 999\\n\\nHotline:\\n\\n086 654 0268\\n\\n086 658 7468\\n\\n098 408 1166\\n\\n093 232 3252  ',\n",
       " 'Hướng nghiên cứu của Cô Lưu Thị Minh Ngọc là về lĩnh vực Business Administration (Quản trị kinh doanh)\\n1. Hành vi người tiêu dùng (Consumer behavior)\\n2. Thương mại xã hội (Social commerce)\\n3. Quản trị doanh nghiệp (Corporate governance)\\n4. Khởi nghiệp (Entrepreneurship)\\n5. Lãnh đạo (Leadership)\\n6. Quản lý nguồn nhân lực (Human resource management)',\n",
       " 'Xuất phát từ những nhu cầu thiết thực của sinh viên, với mục đích là sân chơi tạo điều kiện cho các bạn sinh viên đam mê ngành nhóm ngành dịch vụ Khách sạn và Du lịch phát huy khả năng, góp phần nâng cao chất lượng học tập, tạo môi trường trao đổi, học tập, rèn luyện kỹ năng ứng dụng thực tiễn. CLB (CLB) “Bon Voyage!” được ra đời trên cơ sở là cầu nối giữa nhà trường với sinh viên.\\n\\nTên CLB:\\n\\nTên Tiếng Anh: Bon Voyage! – Hospitality & Tourism Club (BV!)\\nTên Tiếng Việt: CLB Khách sạn & Du lịch – Bon Voyage!\\nSứ mệnh:\\n\\nCLB Bon Voyage! – Hospitality & Tourism Club thành lập, phát triển và tồn tại với sứ mệnh xây dựng một môi trường học tập, nâng cao kiến thức và kinh nghiệm về chuyên ngành Quản trị Khách sạn, Thể thao và Du lịch cho các bạn sinh viên Khoa Quốc tế, góp phần xây dựng một hình ảnh sinh viên Khoa Quốc tế năng động, sáng tạo và chuyên nghiệp, có khả năng hội nhập cao, đồng thời giúp các sinh viên có nhiều trải nghiệm và va chạm thực tế, có cơ hội gần gũi hơn với công việc thực tế.\\n\\nGiá trị cốt lõi:\\n\\n“Net-working, proactive, confident, professional”\\n\\ntạm dịch: “Kết nối, chủ động, tự tin, chuyên nghiệp”\\nTrang fapage của câu lạc bộ sinh viên ngành Khách sạn và Du lịch - Bon Voyage: https://www.facebook.com/BonVoyageISVNU',\n",
       " 'Trải nghiệm là một ISER\\nTrở thành sinh viên Trường Quốc tế, Đại học Quốc gia Hà Nội, bạn đã được gia nhập cộng đồng sinh viên của Đại học Quốc gia Hà Nội với cánh cửa rộng mở cho cả cơ hội nghề nghiệp và phát triển kĩ năng của bản thân, để trở thành người xuất sắc nhất cho sự nghiệp tương lai mà bạn lựa chọn. Các hoạt động dành cho sinh viên tại Trường Quốc tế hướng đến việc phát triển con người sinh viên một cách toàn diện, hướng tới trở thành một công dân toàn cầu đúng nghĩa. Hành trình khai phá tiềm năng của một ISER được bắt đầu ngay từ những ngày đầu tiên bạn trở thành sinh viên Trường Quốc tế.\\nTrải nghiệm là nơi tiềm năng của mỗi ISER được khai phá. Từ những hoạt động học tập, hướng nghiệp, phát triển bản thân cho đến những trải nghiệm đa văn hóa, thể thao, năng khiếu, mỗi ISER luôn có đất diễn để cháy hết mình cùng những đam mê, sở thích của tuổi trẻ trong một môi trường học tập toàn diện.\\nVideo hoạt động sinh viên: https://youtu.be/xyF0wDAeuSM',\n",
       " 'Thông tin cơ bản của Trường Quốc Tế\\nTên đầy đủ của Trường Quốc Tế:\\nTên tiếng Việt: Trường Quốc tế- Đại học Quốc gia Hà Nội\\nTên tiếng Anh: VNU – International School\\nTên viết tắt: VNU-IS\\n\\nCác cơ sở của VNU-IS: \\nCơ sở 1: Nhà G7-G8, 144 Xuân Thuỷ, Cầu Giấy, Hà Nội\\nCơ sở 2: Nhà C, E, Làng sinh viên HACINCO, 79 Ngụy Như Kon Tum, Thanh Xuân, Hà Nội\\nCơ sở 3: Số 1, Phố Trịnh Văn Bô, Nam Từ Liêm, Hà Nội\\nCơ sở 4: Toà nhà HT1, Khu Đô thị đại học, Đại học Quốc gia Hà Nội tại Hoà Lạc, Hà Nội\\n\\nWebsite: https://www.is.vnu.edu.vn\\nEmail: is@vnu.edu.vn\\nĐiện thoại: 024. 3557 5992 ',\n",
       " 'Tiến sĩ Kim Đình Thái\\nChức vụ:  Giảng viên, Trưởng ngành Công nghệ Thông tin ứng dụng và Trưởng nhóm nghiên cứu Thị giác máy tính và Robot (CVR)\\nHọc hàm, học vị: Tiến sĩ\\nNgoại ngữ: Tiếng Anh\\nEmail:  thaikd@vnu.edu.vn ;  thaikd@vnuis.edu.vn (nội bộ)\\nĐịa chỉ: Khoa Các khoa học ứng dụng, Phòng 408, nhà C, Làng sinh viên HACINCO, 79 Ngụy Như Kon Tum, Nhân Chính, Thanh Xuân, Hà Nội\\nBằng cấp\\nKỹ sư:  Điều khiển – Tự động hóa, Trường đại học Bách Khoa Hà Nội\\nThạc sĩ:  Điều khiển – Tự động hóa, Trường đại học Kỹ thuật Công nghiệp Thái Nguyên\\nTiến sĩ:  Kỹ thuật Điện – Truyền thông, Đại học Phùng Giáp, Đài Loan.',\n",
       " 'THAM VẤN TÂM LÝ TRƯỜNG QUỐC TẾ\\n- Môi trường đại học là một sự thay đổi hoàn toàn mới mẻ, với những khám phá, trải nghiệm thú vị; bên cạnh đó là những khó khăn thử thách…mang đến biết bao những cung bậc cảm xúc từ hào hứng vui sướng hạnh phúc đến mệt mỏi, chán nản, thất vọng… Tìm hiểu về bản thân, định hướng nghề nghiệp tương lai và các mối quan hệ trong gia đình, tình yêu, bè bạn,.. luôn là những điều trăn trở của tuổi trẻ.\\n- Lắng nghe và thấu hiểu tâm tư ấy, đồng thời nâng cao chất lượng dịch vụ cho sinh viên theo chuẩn quốc tế và tạo môi trường học tập thoải mái và thân thiện giúp các bạn phát triển toàn diện cả về kiến thức, kỹ năng cũng như sức khỏe tinh thần (well-being), Phòng Công tác sinh viên của Trường Quốc tế đã triển khai Dịch vụ Tham vấn. Chúng tôi tự hào vì là đơn vị tiên phong trong Đại học Quốc Gia Hà Nội và các trường Đại học tại Việt Nam triển khai mô hình dịch vụ này cho sinh viên.\\n- Vậy mục đích của Dịch vụ Tham vấn là gì?\\n+ Dựa trên việc ứng dụng mô hình Stepped Care Model For Mental Health – Mô hình Bậc thang cho chăm sóc sức khoẻ tinh thần, Dịch vụ Tham vấn cho Trường Quốc tế nhằm:\\n+ Đánh giá hiện trạng về nhu cầu tham vấn, các vấn đề về sức khỏe tinh thần, tâm lý như trầm cảm, lo âu, stress, ám ảnh, khủng hoảng, bạo lực học đường.\\n+ Nâng cao nhận thức, kỹ năng và sự chủ động cho sinh viên trong việc phòng ngừa, và giải quyết các vấn đề về tâm lý, tinh thần.\\n+ Hỗ trợ sinh viên học trong việc học tập, giảm thiểu áp lực học tập, khó tập trung và phát triển kỹ năng học tập hiệu quả\\n+ Cải thiện khả năng nhận thức bản thân, định hướng nghề nghiệp cho sinh viên.\\n+ Tham vấn cho sinh viên về các vướng mắc trong cuộc sống, học tập, nghề nghiệp; tư vấn về tình yêu, tình bạn, giới tính…\\n+ Phát huy cách tiếp cận tổng thể phối hợp giữa các đơn vị trong và ngoài Trường Quốc tế nhằm tối ưu hóa các nguồn lực giúp triển khai hiệu quả dịch vụ tham vấn.\\n- Thông tin hữu ích\\n+ Bạn có thể đặt lịch trực tuyến tại: https://forms.gle/615wsnbDAvk2SjkL7\\n+ Gửi email cho chuyên gia tâm lý để chia sẻ những băn khoăn: phuongntn@vnuis.edu.vn\\n+ Hoặc gọi điện vào hotline Dịch vụ tham vấn tâm lý: +84966408685\\n+ Đọc các bài viết bổ ích về tâm lý, phát triển bản thân và hướng nghiệp; đồng thời chia sẻ với chúng tôi qua facebook: https://www.facebook.com/vnuiscounsellingservices/\\n\\n',\n",
       " 'Nhà trường tổ chức các buổi tập huấn mỗi kỳ học về kỹ năng chuẩn bị hồ sơ, tiếp cận cơ hội thực tập và thái độ cần thiết khi tìm việc. Sinh viên sẽ được hỗ trợ kết nối đến các đối tác phù hợp với nguyện vọng, năng lực, mức độ cầu thị của bản thân.\\n\\n \\n\\nThông tin liên hệ:\\n\\nCô Nguyễn Thúy Hằng, Cán bộ hợp tác nhà trường – doanh nghiệp và các hoạt động hướng nghiệp\\nPhòng Công tác sinh viên, P.303C, Làng sinh viên Hacinco\\nĐiện thoại: 02435575992 (ext 23)\\nHotline 0866513889\\nEmail: hangnt@vnuis.edu.vn\\n\\n',\n",
       " 'Khi đứng trước ngưỡng cửa đại học với vô vàn lựa chọn về ngành học và nghề nghiệp, các bạn học sinh, sinh viên thường không tránh khỏi cảm giác lo lắng không biết nên bắt đầu từ đâu, nên lựa chọn ngành học gì. Để hỗ trợ thí sinh hiểu rõ hơn về xu hướng tính cách bản thân và tìm hiểu nhóm ngành nghề phù hợp với mình, Trường Quốc tế – ĐHQGHN giới thiệu các trắc nghiệm hướng nghiệp thông dụng, hiện đại\\n\\n03 Công cụ trắc nghiệm hữu ích dành cho học sinh, sinh viên:\\n\\nTrắc nghiệm Who are you?: Trắc nghiệm hướng nghiệp này nhằm giúp bạn tìm ra định hướng nghề nghiệp phù hợp qua việc tìm hiểu những hoạt động mà bạn hứng thú nhất, chỉ ra một số lĩnh vực công việc chung nằm trong khả năng nghề nghiệp của bạn.\\nTrắc nghiệm sở thích nghề nghiệp theo Holland (phiên bản dành cho cá nhân từ 15 đến 22 tuổi). Đây là một công cụ mang tính tham khảo cao và không thay thế cho một quy trình tư vấn hướng nghiệp chuyên nghiệp\\nTrắc nghiệm hướng nghiệp MBTI: Đây là hình thức trắc nghiệm tự đoán để giúp một người làm trắc nghiệm tìm hiểu cá tính bản thân dựa theo học thuyết MBTI. Đây là một công cụ phụ khá hiệu quả để giúp một người: Chọn lựa môi trường làm việc phù hợp với cá tính khi chuẩn bị đi làm; Hiểu về sự khác biệt giữa họ và người xung quanh để làm việc nhóm tốt.\\nTruy cập để tham gia trắc nghiệm tại https://huongnghiep.truongquocte.edu.vn']"
      ]
     },
     "execution_count": 37,
     "metadata": {},
     "output_type": "execute_result"
    }
   ],
   "source": [
    "results"
   ]
  },
  {
   "cell_type": "code",
   "execution_count": 38,
   "metadata": {},
   "outputs": [
    {
     "data": {
      "text/plain": [
       "tensor([0.3867, 0.3691, 0.2949, 0.2871, 0.2676, 0.2656, 0.2578, 0.2539, 0.2539,\n",
       "        0.2500, 0.2500, 0.2441, 0.2422, 0.2412, 0.2373, 0.2373, 0.2354, 0.2334,\n",
       "        0.2305, 0.2295], device='cuda:0', dtype=torch.bfloat16)"
      ]
     },
     "execution_count": 38,
     "metadata": {},
     "output_type": "execute_result"
    }
   ],
   "source": [
    "scores"
   ]
  },
  {
   "cell_type": "code",
   "execution_count": 39,
   "metadata": {},
   "outputs": [
    {
     "data": {
      "text/plain": [
       "tensor([-2.9688, -5.2188, -5.6562, -5.7500, -6.1875], device='cuda:0',\n",
       "       dtype=torch.bfloat16)"
      ]
     },
     "execution_count": 39,
     "metadata": {},
     "output_type": "execute_result"
    }
   ],
   "source": [
    "top_scores"
   ]
  },
  {
   "cell_type": "code",
   "execution_count": 40,
   "metadata": {},
   "outputs": [
    {
     "data": {
      "text/plain": [
       "['Nếu mỗi nốt nhạc thể hiện một khung bậc của cảm xúc thì ISHUFFLE chính là bản giao hưởng đó. Đến với ISHUFFLE bạn sẽ được trải nghiệm bản nhạc đó bằng cách chân thực nhất có thể. Ngay bây giờ, hãy xem, đến với CLB của chúng mình các bạn sẽ được trải nghiệm những gì nha\\n\\nChúng mình tên gì?\\n\\n– Tên Tiếng Việt: Câu lạc bộ Âm nhạc ISHUFFLE\\n\\n– Tên Tiếng Anh: ISHUFFLE Music Club\\n\\nLĩnh vực hoạt động là gì?\\nĐúng như cái tên, Âm nhạc là lĩnh vực hoạt động chính của chúng mình. Ngoài ca hát, chúng mình còn thêm những vị trí khác như guitar, piano, drum và rap.\\nVề định hướng phát triển?\\nVới sự phát triển không ngừng nghỉ, ISHUFFLE luôn cố gắng tạo ra những sân chơi cho những bạn trẻ đam mê và yêu thích âm nhạc. Là nơi cầu nối gắn kết các mảnh ghép rời rạc thành một bức tranh đa sắc màu, thành một “gia đình” đoàn kết. Không có điểm dừng hay khái niệm cụ thể nào cho âm nhạc. Chúng mình luôn trân trọng những tài năng âm nhạc trẻ và sẵn sàng đồng hành cùng các bạn để phát triển niềm đam mê ấy.\\nTrang fanpage của câu lạc bộ âm nhạc - IShuffle: https://www.facebook.com/ishuffleband',\n",
       " '“Trong cuộc sống không có kẻ địch nào có thể sánh ngang với bệnh tật và cũng chẳng thể có một người bạn nào đáng trân quý hơn đó là sức khỏe”. Đặc biệt việc rèn luyện sức khỏe hàng ngày thông qua các bộ môn thể thao mang lại rất nhiều lợi ích cho mỗi bản thân chúng ta. Đó là lý do mà ISMASH – CLB Cầu lông Trường Quốc tế ra đời. Đến với ISMASH, bạn sẽ được cháy hết mình với đam mê, thỏa sức tập luyện cùng những người bạn và nâng cao trình độ của bản thân.\\n\\nTên Tiếng Anh: VNU IS Badminton Club\\nTên Tiếng Việt: Câu lạc bộ Cầu lông Trường Quốc tế\\nTên viết tắt: ISMASH\\nSlogan: Control Your Passion For Life\\nMục đích: CLB Cầu lông Trường Quốc tế ISMASH được thành lập với phương châm là tạo ra một sân chơi bổ ích dành cho những người cùng có niềm đam mê với bộ môn cầu lông được phát huy khả năng của mình, mong muốn động viên, khích lệ tinh thần cho sinh viên thông qua các hoạt động thể thao ý nghĩa. Ngoài ra nhằm đem đến những kiến thức chuyên sâu về cầu lông cho mọi người, qua đó góp phần lan tỏa tinh thần thể thao đến cộng đồng.\\nTrang fanpage của câu lạc bộ Câu lông trường Quốc tế - ISMASH: https://www.facebook.com/ismashclub',\n",
       " 'THAM VẤN TÂM LÝ TRƯỜNG QUỐC TẾ\\n- Môi trường đại học là một sự thay đổi hoàn toàn mới mẻ, với những khám phá, trải nghiệm thú vị; bên cạnh đó là những khó khăn thử thách…mang đến biết bao những cung bậc cảm xúc từ hào hứng vui sướng hạnh phúc đến mệt mỏi, chán nản, thất vọng… Tìm hiểu về bản thân, định hướng nghề nghiệp tương lai và các mối quan hệ trong gia đình, tình yêu, bè bạn,.. luôn là những điều trăn trở của tuổi trẻ.\\n- Lắng nghe và thấu hiểu tâm tư ấy, đồng thời nâng cao chất lượng dịch vụ cho sinh viên theo chuẩn quốc tế và tạo môi trường học tập thoải mái và thân thiện giúp các bạn phát triển toàn diện cả về kiến thức, kỹ năng cũng như sức khỏe tinh thần (well-being), Phòng Công tác sinh viên của Trường Quốc tế đã triển khai Dịch vụ Tham vấn. Chúng tôi tự hào vì là đơn vị tiên phong trong Đại học Quốc Gia Hà Nội và các trường Đại học tại Việt Nam triển khai mô hình dịch vụ này cho sinh viên.\\n- Vậy mục đích của Dịch vụ Tham vấn là gì?\\n+ Dựa trên việc ứng dụng mô hình Stepped Care Model For Mental Health – Mô hình Bậc thang cho chăm sóc sức khoẻ tinh thần, Dịch vụ Tham vấn cho Trường Quốc tế nhằm:\\n+ Đánh giá hiện trạng về nhu cầu tham vấn, các vấn đề về sức khỏe tinh thần, tâm lý như trầm cảm, lo âu, stress, ám ảnh, khủng hoảng, bạo lực học đường.\\n+ Nâng cao nhận thức, kỹ năng và sự chủ động cho sinh viên trong việc phòng ngừa, và giải quyết các vấn đề về tâm lý, tinh thần.\\n+ Hỗ trợ sinh viên học trong việc học tập, giảm thiểu áp lực học tập, khó tập trung và phát triển kỹ năng học tập hiệu quả\\n+ Cải thiện khả năng nhận thức bản thân, định hướng nghề nghiệp cho sinh viên.\\n+ Tham vấn cho sinh viên về các vướng mắc trong cuộc sống, học tập, nghề nghiệp; tư vấn về tình yêu, tình bạn, giới tính…\\n+ Phát huy cách tiếp cận tổng thể phối hợp giữa các đơn vị trong và ngoài Trường Quốc tế nhằm tối ưu hóa các nguồn lực giúp triển khai hiệu quả dịch vụ tham vấn.\\n- Thông tin hữu ích\\n+ Bạn có thể đặt lịch trực tuyến tại: https://forms.gle/615wsnbDAvk2SjkL7\\n+ Gửi email cho chuyên gia tâm lý để chia sẻ những băn khoăn: phuongntn@vnuis.edu.vn\\n+ Hoặc gọi điện vào hotline Dịch vụ tham vấn tâm lý: +84966408685\\n+ Đọc các bài viết bổ ích về tâm lý, phát triển bản thân và hướng nghiệp; đồng thời chia sẻ với chúng tôi qua facebook: https://www.facebook.com/vnuiscounsellingservices/\\n\\n',\n",
       " 'Chào bạn tôi là VNU-IS Chatbot, bạn cần hỗ trợ gì ạ?',\n",
       " 'Trải nghiệm là một ISER\\nTrở thành sinh viên Trường Quốc tế, Đại học Quốc gia Hà Nội, bạn đã được gia nhập cộng đồng sinh viên của Đại học Quốc gia Hà Nội với cánh cửa rộng mở cho cả cơ hội nghề nghiệp và phát triển kĩ năng của bản thân, để trở thành người xuất sắc nhất cho sự nghiệp tương lai mà bạn lựa chọn. Các hoạt động dành cho sinh viên tại Trường Quốc tế hướng đến việc phát triển con người sinh viên một cách toàn diện, hướng tới trở thành một công dân toàn cầu đúng nghĩa. Hành trình khai phá tiềm năng của một ISER được bắt đầu ngay từ những ngày đầu tiên bạn trở thành sinh viên Trường Quốc tế.\\nTrải nghiệm là nơi tiềm năng của mỗi ISER được khai phá. Từ những hoạt động học tập, hướng nghiệp, phát triển bản thân cho đến những trải nghiệm đa văn hóa, thể thao, năng khiếu, mỗi ISER luôn có đất diễn để cháy hết mình cùng những đam mê, sở thích của tuổi trẻ trong một môi trường học tập toàn diện.\\nVideo hoạt động sinh viên: https://youtu.be/xyF0wDAeuSM']"
      ]
     },
     "execution_count": 40,
     "metadata": {},
     "output_type": "execute_result"
    }
   ],
   "source": [
    "rerank_result"
   ]
  }
 ],
 "metadata": {
  "kernelspec": {
   "display_name": ".venv",
   "language": "python",
   "name": "python3"
  },
  "language_info": {
   "codemirror_mode": {
    "name": "ipython",
    "version": 3
   },
   "file_extension": ".py",
   "mimetype": "text/x-python",
   "name": "python",
   "nbconvert_exporter": "python",
   "pygments_lexer": "ipython3",
   "version": "3.10.12"
  }
 },
 "nbformat": 4,
 "nbformat_minor": 2
}
