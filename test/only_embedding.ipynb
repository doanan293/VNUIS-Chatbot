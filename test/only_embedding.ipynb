{
 "cells": [
  {
   "cell_type": "code",
   "execution_count": 1,
   "metadata": {},
   "outputs": [
    {
     "name": "stdout",
     "output_type": "stream",
     "text": [
      "/home/andv/important/chatbot_rag\n"
     ]
    },
    {
     "name": "stderr",
     "output_type": "stream",
     "text": [
      "/home/andv/important/chatbot_rag/.venv/lib/python3.10/site-packages/IPython/core/magics/osm.py:417: UserWarning: This is now an optional IPython functionality, setting dhist requires you to install the `pickleshare` library.\n",
      "  self.shell.db['dhist'] = compress_dhist(dhist)[-100:]\n"
     ]
    }
   ],
   "source": [
    "cd .."
   ]
  },
  {
   "cell_type": "code",
   "execution_count": 2,
   "metadata": {},
   "outputs": [
    {
     "name": "stderr",
     "output_type": "stream",
     "text": [
      "/home/andv/important/chatbot_rag/.venv/lib/python3.10/site-packages/sentence_transformers/cross_encoder/CrossEncoder.py:13: TqdmWarning: IProgress not found. Please update jupyter and ipywidgets. See https://ipywidgets.readthedocs.io/en/stable/user_install.html\n",
      "  from tqdm.autonotebook import tqdm, trange\n"
     ]
    }
   ],
   "source": [
    "\n",
    "from sentence_transformers import CrossEncoder, SentenceTransformer, util\n",
    "import torch\n",
    "import numpy as np\n",
    "import pandas as pd\n",
    "import textwrap\n",
    "import time\n",
    "import sys\n",
    "import locale\n",
    "import os\n",
    "from dotenv import load_dotenv\n",
    "\n",
    "load_dotenv()\n",
    "# Load models and data once\n",
    "embedding_path = os.getenv(\"PROJECTCB1_EMBEDDING_MODEL\")\n",
    "embedding_model = SentenceTransformer(model_name_or_path=embedding_path, device=\"cuda\")\n",
    "\n",
    "# pr_model_path = os.getenv(\"POST_RETRIEVAL_MODEL\")\n",
    "# pr_model = CrossEncoder(model_name=pr_model_path, device=\"cuda\")\n",
    "# Load embeddings and data once\n",
    "text_chunks_and_embedding_df = pd.read_csv(os.getenv(\"PROJECTCB1_EMBEDDING_DATA_PATH\"))\n",
    "text_chunks_and_embedding_df[\"embedding\"] = text_chunks_and_embedding_df[\n",
    "    \"embedding\"\n",
    "].apply(lambda x: np.fromstring(x.strip(\"[]\"), sep=\" \"))\n",
    "pages_and_chunks = text_chunks_and_embedding_df.to_dict(orient=\"records\")\n",
    "embeddings = torch.tensor(\n",
    "    np.array(text_chunks_and_embedding_df[\"embedding\"].tolist()), dtype=torch.float32\n",
    ").to(\"cuda\")\n",
    "\n",
    "\n",
    "# Define helper function to print wrapped text\n",
    "def print_wrapped(text, wrap_length=80):\n",
    "    wrapped_text = textwrap.fill(text, wrap_length)\n",
    "    print(wrapped_text)\n",
    "\n",
    "\n",
    "# Function to retrieve relevant resources\n",
    "def retrieve_relevant_resources(query: str, n_resources_to_return: int = 5):\n",
    "    query_embedding = embedding_model.encode(query, convert_to_tensor=True)\n",
    "    # Use cosine similarity instead of dot score\n",
    "    cosine_scores = util.pytorch_cos_sim(query_embedding, embeddings)[0]\n",
    "    scores, indices = torch.topk(input=cosine_scores, k=n_resources_to_return)\n",
    "    context_items = [pages_and_chunks[i] for i in indices]\n",
    "\n",
    "    results = [item[\"Final_Answer\"] for item in context_items]\n",
    "    # result = results[0]\n",
    "    # score = scores.item()\n",
    "    # print(ques_items)\n",
    "\n",
    "    return results, scores"
   ]
  },
  {
   "cell_type": "code",
   "execution_count": 3,
   "metadata": {},
   "outputs": [],
   "source": [
    "query = \"nội dung dự án 1 chương trình mục tiêu quốc gia  \"\n",
    "n_resources_to_return = 5\n",
    "a, b = retrieve_relevant_resources(query, n_resources_to_return)"
   ]
  },
  {
   "cell_type": "code",
   "execution_count": 4,
   "metadata": {},
   "outputs": [
    {
     "data": {
      "text/plain": [
       "['Dự án thành phần của Chương trình mục tiêu quốc gia bao gồm: dự án, tiểu dự án thuộc Chương trình mục tiêu quốc gia phát triển kinh tế - xã hội vùng đồng bào dân tộc thiểu số và miền núi giai đoạn 2021 - 2030, Chương trình mục tiêu quốc gia giảm nghèo bền vững giai đoạn 2021 - 2025; nội dung thành phần, nội dung thuộc Chương trình mục tiêu quốc gia xây dựng nông thôn mới giai đoạn 2021 - 2025.\\n (Theo Điều 3, khoản 1 Nghị Quyết của Quốc Hội 111/2024/QH15)',\n",
       " '\"1. Hồ sơ thẩm định chương trình, dự án bao gồm:\\na) Tờ trình thẩm định chương trình, dự án;\\nb) Báo cáo nghiên cứu khả thi chương trình, dự án;\\nc) Các tài liệu khác có liên quan.\\n2. Hồ sơ quyết định chương trình, dự án, nội dung, thời gian thẩm định, quyết định chương trình, dự án thực hiện theo quy định của Chính phủ.\" (Theo Điều 45 Luật, Bộ Luật 39/2019/QH14)',\n",
       " 'Nghị định này quy định chi tiết một số nội dung về quản lý dự án đầu tư xây dựng.',\n",
       " 'Dự án thành phần bao gồm: dự án, tiểu dự án thuộc Chương trình mục tiêu quốc gia phát triển kinh tế - xã hội vùng đồng bào dân tộc thiểu số và miền núi giai đoạn 2021 - 2030, Chương trình mục tiêu quốc gia giảm nghèo bền vững giai đoạn 2021 - 2025; nội dung thành phần, nội dung thuộc Chương trình mục tiêu quốc gia xây dựng nông thôn mới giai đoạn 2021 - 2025.\\n (Theo Điều 3, khoản 1 Nghị Quyết của Quốc Hội 111/2024/QH15)',\n",
       " '\"Dự án 1 bao gồm 4 nội dung:\\n- Nội dung số 01: Hỗ trợ đất ở\\n- Nội dung số 02: Hỗ trợ nhà ở\\n- Nội dung số 03: Hỗ trợ đất sản xuất, chuyển đổi nghề\\n- Nội dung số 04: Hỗ trợ nước sinh hoạt\" (Theo Phần III, Mục 1 Quyết định Thủ tướng chính phủ 1719/QĐ-TTg)']"
      ]
     },
     "execution_count": 4,
     "metadata": {},
     "output_type": "execute_result"
    }
   ],
   "source": [
    "a"
   ]
  },
  {
   "cell_type": "code",
   "execution_count": 5,
   "metadata": {},
   "outputs": [
    {
     "data": {
      "text/plain": [
       "tensor([0.2486, 0.2432, 0.2407, 0.2175, 0.2026], device='cuda:0')"
      ]
     },
     "execution_count": 5,
     "metadata": {},
     "output_type": "execute_result"
    }
   ],
   "source": [
    "b"
   ]
  },
  {
   "cell_type": "code",
   "execution_count": null,
   "metadata": {},
   "outputs": [],
   "source": []
  }
 ],
 "metadata": {
  "kernelspec": {
   "display_name": ".venv",
   "language": "python",
   "name": "python3"
  },
  "language_info": {
   "codemirror_mode": {
    "name": "ipython",
    "version": 3
   },
   "file_extension": ".py",
   "mimetype": "text/x-python",
   "name": "python",
   "nbconvert_exporter": "python",
   "pygments_lexer": "ipython3",
   "version": "3.10.12"
  }
 },
 "nbformat": 4,
 "nbformat_minor": 2
}
